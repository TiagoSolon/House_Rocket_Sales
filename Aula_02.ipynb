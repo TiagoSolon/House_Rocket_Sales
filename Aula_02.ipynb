{
 "cells": [
  {
   "cell_type": "markdown",
   "id": "fixed-frank",
   "metadata": {},
   "source": [
    "# Analyse of Dataset"
   ]
  },
  {
   "cell_type": "markdown",
   "id": "proud-favorite",
   "metadata": {},
   "source": [
    "## Import of Libraries"
   ]
  },
  {
   "cell_type": "code",
   "execution_count": 185,
   "id": "frank-passion",
   "metadata": {},
   "outputs": [],
   "source": [
    "# use lib pandas para trabalhar com analise de dados\n",
    "import pandas as pd\n",
    "# use lib numpy para trabalhar com calculos matematicos dos dados\n",
    "import numpy as np\n",
    "# use lib plotly.express para criar mapas.\n",
    "import plotly.express as px"
   ]
  },
  {
   "cell_type": "markdown",
   "id": "awful-instrumentation",
   "metadata": {},
   "source": [
    "## Import of Data"
   ]
  },
  {
   "cell_type": "code",
   "execution_count": 226,
   "id": "embedded-summer",
   "metadata": {},
   "outputs": [
    {
     "data": {
      "text/html": [
       "<div>\n",
       "<style scoped>\n",
       "    .dataframe tbody tr th:only-of-type {\n",
       "        vertical-align: middle;\n",
       "    }\n",
       "\n",
       "    .dataframe tbody tr th {\n",
       "        vertical-align: top;\n",
       "    }\n",
       "\n",
       "    .dataframe thead th {\n",
       "        text-align: right;\n",
       "    }\n",
       "</style>\n",
       "<table border=\"1\" class=\"dataframe\">\n",
       "  <thead>\n",
       "    <tr style=\"text-align: right;\">\n",
       "      <th></th>\n",
       "      <th>id</th>\n",
       "      <th>date</th>\n",
       "      <th>price</th>\n",
       "      <th>bedrooms</th>\n",
       "      <th>bathrooms</th>\n",
       "      <th>sqft_living</th>\n",
       "      <th>sqft_lot</th>\n",
       "      <th>floors</th>\n",
       "      <th>waterfront</th>\n",
       "      <th>view</th>\n",
       "      <th>...</th>\n",
       "      <th>grade</th>\n",
       "      <th>sqft_above</th>\n",
       "      <th>sqft_basement</th>\n",
       "      <th>yr_built</th>\n",
       "      <th>yr_renovated</th>\n",
       "      <th>zipcode</th>\n",
       "      <th>lat</th>\n",
       "      <th>long</th>\n",
       "      <th>sqft_living15</th>\n",
       "      <th>sqft_lot15</th>\n",
       "    </tr>\n",
       "  </thead>\n",
       "  <tbody>\n",
       "    <tr>\n",
       "      <th>0</th>\n",
       "      <td>7129300520</td>\n",
       "      <td>20141013T000000</td>\n",
       "      <td>221900.0</td>\n",
       "      <td>3</td>\n",
       "      <td>1.00</td>\n",
       "      <td>1180</td>\n",
       "      <td>5650</td>\n",
       "      <td>1.0</td>\n",
       "      <td>0</td>\n",
       "      <td>0</td>\n",
       "      <td>...</td>\n",
       "      <td>7</td>\n",
       "      <td>1180</td>\n",
       "      <td>0</td>\n",
       "      <td>1955</td>\n",
       "      <td>0</td>\n",
       "      <td>98178</td>\n",
       "      <td>47.5112</td>\n",
       "      <td>-122.257</td>\n",
       "      <td>1340</td>\n",
       "      <td>5650</td>\n",
       "    </tr>\n",
       "    <tr>\n",
       "      <th>1</th>\n",
       "      <td>6414100192</td>\n",
       "      <td>20141209T000000</td>\n",
       "      <td>538000.0</td>\n",
       "      <td>3</td>\n",
       "      <td>2.25</td>\n",
       "      <td>2570</td>\n",
       "      <td>7242</td>\n",
       "      <td>2.0</td>\n",
       "      <td>0</td>\n",
       "      <td>0</td>\n",
       "      <td>...</td>\n",
       "      <td>7</td>\n",
       "      <td>2170</td>\n",
       "      <td>400</td>\n",
       "      <td>1951</td>\n",
       "      <td>1991</td>\n",
       "      <td>98125</td>\n",
       "      <td>47.7210</td>\n",
       "      <td>-122.319</td>\n",
       "      <td>1690</td>\n",
       "      <td>7639</td>\n",
       "    </tr>\n",
       "    <tr>\n",
       "      <th>2</th>\n",
       "      <td>5631500400</td>\n",
       "      <td>20150225T000000</td>\n",
       "      <td>180000.0</td>\n",
       "      <td>2</td>\n",
       "      <td>1.00</td>\n",
       "      <td>770</td>\n",
       "      <td>10000</td>\n",
       "      <td>1.0</td>\n",
       "      <td>0</td>\n",
       "      <td>0</td>\n",
       "      <td>...</td>\n",
       "      <td>6</td>\n",
       "      <td>770</td>\n",
       "      <td>0</td>\n",
       "      <td>1933</td>\n",
       "      <td>0</td>\n",
       "      <td>98028</td>\n",
       "      <td>47.7379</td>\n",
       "      <td>-122.233</td>\n",
       "      <td>2720</td>\n",
       "      <td>8062</td>\n",
       "    </tr>\n",
       "    <tr>\n",
       "      <th>3</th>\n",
       "      <td>2487200875</td>\n",
       "      <td>20141209T000000</td>\n",
       "      <td>604000.0</td>\n",
       "      <td>4</td>\n",
       "      <td>3.00</td>\n",
       "      <td>1960</td>\n",
       "      <td>5000</td>\n",
       "      <td>1.0</td>\n",
       "      <td>0</td>\n",
       "      <td>0</td>\n",
       "      <td>...</td>\n",
       "      <td>7</td>\n",
       "      <td>1050</td>\n",
       "      <td>910</td>\n",
       "      <td>1965</td>\n",
       "      <td>0</td>\n",
       "      <td>98136</td>\n",
       "      <td>47.5208</td>\n",
       "      <td>-122.393</td>\n",
       "      <td>1360</td>\n",
       "      <td>5000</td>\n",
       "    </tr>\n",
       "    <tr>\n",
       "      <th>4</th>\n",
       "      <td>1954400510</td>\n",
       "      <td>20150218T000000</td>\n",
       "      <td>510000.0</td>\n",
       "      <td>3</td>\n",
       "      <td>2.00</td>\n",
       "      <td>1680</td>\n",
       "      <td>8080</td>\n",
       "      <td>1.0</td>\n",
       "      <td>0</td>\n",
       "      <td>0</td>\n",
       "      <td>...</td>\n",
       "      <td>8</td>\n",
       "      <td>1680</td>\n",
       "      <td>0</td>\n",
       "      <td>1987</td>\n",
       "      <td>0</td>\n",
       "      <td>98074</td>\n",
       "      <td>47.6168</td>\n",
       "      <td>-122.045</td>\n",
       "      <td>1800</td>\n",
       "      <td>7503</td>\n",
       "    </tr>\n",
       "  </tbody>\n",
       "</table>\n",
       "<p>5 rows × 21 columns</p>\n",
       "</div>"
      ],
      "text/plain": [
       "           id             date     price  bedrooms  bathrooms  sqft_living  \\\n",
       "0  7129300520  20141013T000000  221900.0         3       1.00         1180   \n",
       "1  6414100192  20141209T000000  538000.0         3       2.25         2570   \n",
       "2  5631500400  20150225T000000  180000.0         2       1.00          770   \n",
       "3  2487200875  20141209T000000  604000.0         4       3.00         1960   \n",
       "4  1954400510  20150218T000000  510000.0         3       2.00         1680   \n",
       "\n",
       "   sqft_lot  floors  waterfront  view  ...  grade  sqft_above  sqft_basement  \\\n",
       "0      5650     1.0           0     0  ...      7        1180              0   \n",
       "1      7242     2.0           0     0  ...      7        2170            400   \n",
       "2     10000     1.0           0     0  ...      6         770              0   \n",
       "3      5000     1.0           0     0  ...      7        1050            910   \n",
       "4      8080     1.0           0     0  ...      8        1680              0   \n",
       "\n",
       "   yr_built  yr_renovated  zipcode      lat     long  sqft_living15  \\\n",
       "0      1955             0    98178  47.5112 -122.257           1340   \n",
       "1      1951          1991    98125  47.7210 -122.319           1690   \n",
       "2      1933             0    98028  47.7379 -122.233           2720   \n",
       "3      1965             0    98136  47.5208 -122.393           1360   \n",
       "4      1987             0    98074  47.6168 -122.045           1800   \n",
       "\n",
       "   sqft_lot15  \n",
       "0        5650  \n",
       "1        7639  \n",
       "2        8062  \n",
       "3        5000  \n",
       "4        7503  \n",
       "\n",
       "[5 rows x 21 columns]"
      ]
     },
     "execution_count": 226,
     "metadata": {},
     "output_type": "execute_result"
    }
   ],
   "source": [
    "# load dataset\n",
    "df = pd.read_csv('data/kc_house_data.csv')\n",
    "\n",
    "# read top 5 rows dataset\n",
    "df.head()"
   ]
  },
  {
   "cell_type": "markdown",
   "id": "finite-football",
   "metadata": {},
   "source": [
    "### Check Data Types"
   ]
  },
  {
   "cell_type": "code",
   "execution_count": 227,
   "id": "reserved-vulnerability",
   "metadata": {},
   "outputs": [
    {
     "data": {
      "text/plain": [
       "id                 int64\n",
       "date              object\n",
       "price            float64\n",
       "bedrooms           int64\n",
       "bathrooms        float64\n",
       "sqft_living        int64\n",
       "sqft_lot           int64\n",
       "floors           float64\n",
       "waterfront         int64\n",
       "view               int64\n",
       "condition          int64\n",
       "grade              int64\n",
       "sqft_above         int64\n",
       "sqft_basement      int64\n",
       "yr_built           int64\n",
       "yr_renovated       int64\n",
       "zipcode            int64\n",
       "lat              float64\n",
       "long             float64\n",
       "sqft_living15      int64\n",
       "sqft_lot15         int64\n",
       "dtype: object"
      ]
     },
     "execution_count": 227,
     "metadata": {},
     "output_type": "execute_result"
    }
   ],
   "source": [
    "# Check data types of dataset\n",
    "df.dtypes"
   ]
  },
  {
   "cell_type": "markdown",
   "id": "waiting-double",
   "metadata": {},
   "source": [
    "### Check NA "
   ]
  },
  {
   "cell_type": "code",
   "execution_count": 228,
   "id": "premium-holmes",
   "metadata": {},
   "outputs": [
    {
     "data": {
      "text/plain": [
       "id               0\n",
       "date             0\n",
       "price            0\n",
       "bedrooms         0\n",
       "bathrooms        0\n",
       "sqft_living      0\n",
       "sqft_lot         0\n",
       "floors           0\n",
       "waterfront       0\n",
       "view             0\n",
       "condition        0\n",
       "grade            0\n",
       "sqft_above       0\n",
       "sqft_basement    0\n",
       "yr_built         0\n",
       "yr_renovated     0\n",
       "zipcode          0\n",
       "lat              0\n",
       "long             0\n",
       "sqft_living15    0\n",
       "sqft_lot15       0\n",
       "dtype: int64"
      ]
     },
     "execution_count": 228,
     "metadata": {},
     "output_type": "execute_result"
    }
   ],
   "source": [
    "# check NA values\n",
    "df.isna().sum()"
   ]
  },
  {
   "cell_type": "markdown",
   "id": "correct-wells",
   "metadata": {},
   "source": [
    "## ETL Data"
   ]
  },
  {
   "cell_type": "markdown",
   "id": "forced-algeria",
   "metadata": {},
   "source": [
    "### Check duplicated. "
   ]
  },
  {
   "cell_type": "code",
   "execution_count": 229,
   "id": "seeing-texas",
   "metadata": {},
   "outputs": [
    {
     "data": {
      "text/plain": [
       "False    21436\n",
       "True       177\n",
       "Name: id, dtype: int64"
      ]
     },
     "execution_count": 229,
     "metadata": {},
     "output_type": "execute_result"
    }
   ],
   "source": [
    "# Check duplicated data from ID columns.\n",
    "df['id'].duplicated().value_counts()"
   ]
  },
  {
   "cell_type": "markdown",
   "id": "proprietary-immune",
   "metadata": {},
   "source": [
    "**OBS:** There are 177 duplicated house ID, may be its happen because there are some update sale price how to show below."
   ]
  },
  {
   "cell_type": "code",
   "execution_count": 230,
   "id": "fixed-geology",
   "metadata": {},
   "outputs": [
    {
     "data": {
      "text/html": [
       "<div>\n",
       "<style scoped>\n",
       "    .dataframe tbody tr th:only-of-type {\n",
       "        vertical-align: middle;\n",
       "    }\n",
       "\n",
       "    .dataframe tbody tr th {\n",
       "        vertical-align: top;\n",
       "    }\n",
       "\n",
       "    .dataframe thead th {\n",
       "        text-align: right;\n",
       "    }\n",
       "</style>\n",
       "<table border=\"1\" class=\"dataframe\">\n",
       "  <thead>\n",
       "    <tr style=\"text-align: right;\">\n",
       "      <th></th>\n",
       "      <th>id</th>\n",
       "      <th>date</th>\n",
       "      <th>price</th>\n",
       "      <th>bedrooms</th>\n",
       "      <th>bathrooms</th>\n",
       "      <th>sqft_living</th>\n",
       "      <th>sqft_lot</th>\n",
       "      <th>floors</th>\n",
       "      <th>waterfront</th>\n",
       "      <th>view</th>\n",
       "      <th>...</th>\n",
       "      <th>grade</th>\n",
       "      <th>sqft_above</th>\n",
       "      <th>sqft_basement</th>\n",
       "      <th>yr_built</th>\n",
       "      <th>yr_renovated</th>\n",
       "      <th>zipcode</th>\n",
       "      <th>lat</th>\n",
       "      <th>long</th>\n",
       "      <th>sqft_living15</th>\n",
       "      <th>sqft_lot15</th>\n",
       "    </tr>\n",
       "  </thead>\n",
       "  <tbody>\n",
       "    <tr>\n",
       "      <th>2496</th>\n",
       "      <td>1000102</td>\n",
       "      <td>20140916T000000</td>\n",
       "      <td>280000.0</td>\n",
       "      <td>6</td>\n",
       "      <td>3.00</td>\n",
       "      <td>2400</td>\n",
       "      <td>9373</td>\n",
       "      <td>2.0</td>\n",
       "      <td>0</td>\n",
       "      <td>0</td>\n",
       "      <td>...</td>\n",
       "      <td>7</td>\n",
       "      <td>2400</td>\n",
       "      <td>0</td>\n",
       "      <td>1991</td>\n",
       "      <td>0</td>\n",
       "      <td>98002</td>\n",
       "      <td>47.3262</td>\n",
       "      <td>-122.214</td>\n",
       "      <td>2060</td>\n",
       "      <td>7316</td>\n",
       "    </tr>\n",
       "    <tr>\n",
       "      <th>2497</th>\n",
       "      <td>1000102</td>\n",
       "      <td>20150422T000000</td>\n",
       "      <td>300000.0</td>\n",
       "      <td>6</td>\n",
       "      <td>3.00</td>\n",
       "      <td>2400</td>\n",
       "      <td>9373</td>\n",
       "      <td>2.0</td>\n",
       "      <td>0</td>\n",
       "      <td>0</td>\n",
       "      <td>...</td>\n",
       "      <td>7</td>\n",
       "      <td>2400</td>\n",
       "      <td>0</td>\n",
       "      <td>1991</td>\n",
       "      <td>0</td>\n",
       "      <td>98002</td>\n",
       "      <td>47.3262</td>\n",
       "      <td>-122.214</td>\n",
       "      <td>2060</td>\n",
       "      <td>7316</td>\n",
       "    </tr>\n",
       "    <tr>\n",
       "      <th>16814</th>\n",
       "      <td>7200179</td>\n",
       "      <td>20141016T000000</td>\n",
       "      <td>150000.0</td>\n",
       "      <td>2</td>\n",
       "      <td>1.00</td>\n",
       "      <td>840</td>\n",
       "      <td>12750</td>\n",
       "      <td>1.0</td>\n",
       "      <td>0</td>\n",
       "      <td>0</td>\n",
       "      <td>...</td>\n",
       "      <td>6</td>\n",
       "      <td>840</td>\n",
       "      <td>0</td>\n",
       "      <td>1925</td>\n",
       "      <td>0</td>\n",
       "      <td>98055</td>\n",
       "      <td>47.4840</td>\n",
       "      <td>-122.211</td>\n",
       "      <td>1480</td>\n",
       "      <td>6969</td>\n",
       "    </tr>\n",
       "    <tr>\n",
       "      <th>16815</th>\n",
       "      <td>7200179</td>\n",
       "      <td>20150424T000000</td>\n",
       "      <td>175000.0</td>\n",
       "      <td>2</td>\n",
       "      <td>1.00</td>\n",
       "      <td>840</td>\n",
       "      <td>12750</td>\n",
       "      <td>1.0</td>\n",
       "      <td>0</td>\n",
       "      <td>0</td>\n",
       "      <td>...</td>\n",
       "      <td>6</td>\n",
       "      <td>840</td>\n",
       "      <td>0</td>\n",
       "      <td>1925</td>\n",
       "      <td>0</td>\n",
       "      <td>98055</td>\n",
       "      <td>47.4840</td>\n",
       "      <td>-122.211</td>\n",
       "      <td>1480</td>\n",
       "      <td>6969</td>\n",
       "    </tr>\n",
       "    <tr>\n",
       "      <th>11433</th>\n",
       "      <td>109200390</td>\n",
       "      <td>20140820T000000</td>\n",
       "      <td>245000.0</td>\n",
       "      <td>3</td>\n",
       "      <td>1.75</td>\n",
       "      <td>1480</td>\n",
       "      <td>3900</td>\n",
       "      <td>1.0</td>\n",
       "      <td>0</td>\n",
       "      <td>0</td>\n",
       "      <td>...</td>\n",
       "      <td>7</td>\n",
       "      <td>1480</td>\n",
       "      <td>0</td>\n",
       "      <td>1980</td>\n",
       "      <td>0</td>\n",
       "      <td>98023</td>\n",
       "      <td>47.2977</td>\n",
       "      <td>-122.367</td>\n",
       "      <td>1830</td>\n",
       "      <td>6956</td>\n",
       "    </tr>\n",
       "    <tr>\n",
       "      <th>11434</th>\n",
       "      <td>109200390</td>\n",
       "      <td>20141020T000000</td>\n",
       "      <td>250000.0</td>\n",
       "      <td>3</td>\n",
       "      <td>1.75</td>\n",
       "      <td>1480</td>\n",
       "      <td>3900</td>\n",
       "      <td>1.0</td>\n",
       "      <td>0</td>\n",
       "      <td>0</td>\n",
       "      <td>...</td>\n",
       "      <td>7</td>\n",
       "      <td>1480</td>\n",
       "      <td>0</td>\n",
       "      <td>1980</td>\n",
       "      <td>0</td>\n",
       "      <td>98023</td>\n",
       "      <td>47.2977</td>\n",
       "      <td>-122.367</td>\n",
       "      <td>1830</td>\n",
       "      <td>6956</td>\n",
       "    </tr>\n",
       "    <tr>\n",
       "      <th>12417</th>\n",
       "      <td>123039336</td>\n",
       "      <td>20140611T000000</td>\n",
       "      <td>148000.0</td>\n",
       "      <td>1</td>\n",
       "      <td>1.00</td>\n",
       "      <td>620</td>\n",
       "      <td>8261</td>\n",
       "      <td>1.0</td>\n",
       "      <td>0</td>\n",
       "      <td>0</td>\n",
       "      <td>...</td>\n",
       "      <td>5</td>\n",
       "      <td>620</td>\n",
       "      <td>0</td>\n",
       "      <td>1939</td>\n",
       "      <td>0</td>\n",
       "      <td>98106</td>\n",
       "      <td>47.5138</td>\n",
       "      <td>-122.364</td>\n",
       "      <td>1180</td>\n",
       "      <td>8244</td>\n",
       "    </tr>\n",
       "    <tr>\n",
       "      <th>12418</th>\n",
       "      <td>123039336</td>\n",
       "      <td>20141208T000000</td>\n",
       "      <td>244900.0</td>\n",
       "      <td>1</td>\n",
       "      <td>1.00</td>\n",
       "      <td>620</td>\n",
       "      <td>8261</td>\n",
       "      <td>1.0</td>\n",
       "      <td>0</td>\n",
       "      <td>0</td>\n",
       "      <td>...</td>\n",
       "      <td>5</td>\n",
       "      <td>620</td>\n",
       "      <td>0</td>\n",
       "      <td>1939</td>\n",
       "      <td>0</td>\n",
       "      <td>98106</td>\n",
       "      <td>47.5138</td>\n",
       "      <td>-122.364</td>\n",
       "      <td>1180</td>\n",
       "      <td>8244</td>\n",
       "    </tr>\n",
       "    <tr>\n",
       "      <th>7792</th>\n",
       "      <td>251300110</td>\n",
       "      <td>20140731T000000</td>\n",
       "      <td>225000.0</td>\n",
       "      <td>3</td>\n",
       "      <td>2.25</td>\n",
       "      <td>2510</td>\n",
       "      <td>12013</td>\n",
       "      <td>2.0</td>\n",
       "      <td>0</td>\n",
       "      <td>0</td>\n",
       "      <td>...</td>\n",
       "      <td>8</td>\n",
       "      <td>2510</td>\n",
       "      <td>0</td>\n",
       "      <td>1988</td>\n",
       "      <td>0</td>\n",
       "      <td>98003</td>\n",
       "      <td>47.3473</td>\n",
       "      <td>-122.314</td>\n",
       "      <td>1870</td>\n",
       "      <td>8017</td>\n",
       "    </tr>\n",
       "    <tr>\n",
       "      <th>7793</th>\n",
       "      <td>251300110</td>\n",
       "      <td>20150114T000000</td>\n",
       "      <td>358000.0</td>\n",
       "      <td>3</td>\n",
       "      <td>2.25</td>\n",
       "      <td>2510</td>\n",
       "      <td>12013</td>\n",
       "      <td>2.0</td>\n",
       "      <td>0</td>\n",
       "      <td>0</td>\n",
       "      <td>...</td>\n",
       "      <td>8</td>\n",
       "      <td>2510</td>\n",
       "      <td>0</td>\n",
       "      <td>1988</td>\n",
       "      <td>0</td>\n",
       "      <td>98003</td>\n",
       "      <td>47.3473</td>\n",
       "      <td>-122.314</td>\n",
       "      <td>1870</td>\n",
       "      <td>8017</td>\n",
       "    </tr>\n",
       "    <tr>\n",
       "      <th>9234</th>\n",
       "      <td>302000375</td>\n",
       "      <td>20140814T000000</td>\n",
       "      <td>169100.0</td>\n",
       "      <td>3</td>\n",
       "      <td>2.00</td>\n",
       "      <td>1050</td>\n",
       "      <td>18304</td>\n",
       "      <td>1.0</td>\n",
       "      <td>0</td>\n",
       "      <td>0</td>\n",
       "      <td>...</td>\n",
       "      <td>7</td>\n",
       "      <td>1050</td>\n",
       "      <td>0</td>\n",
       "      <td>1953</td>\n",
       "      <td>0</td>\n",
       "      <td>98001</td>\n",
       "      <td>47.3206</td>\n",
       "      <td>-122.269</td>\n",
       "      <td>1690</td>\n",
       "      <td>15675</td>\n",
       "    </tr>\n",
       "    <tr>\n",
       "      <th>9235</th>\n",
       "      <td>302000375</td>\n",
       "      <td>20150506T000000</td>\n",
       "      <td>250000.0</td>\n",
       "      <td>3</td>\n",
       "      <td>2.00</td>\n",
       "      <td>1050</td>\n",
       "      <td>18304</td>\n",
       "      <td>1.0</td>\n",
       "      <td>0</td>\n",
       "      <td>0</td>\n",
       "      <td>...</td>\n",
       "      <td>7</td>\n",
       "      <td>1050</td>\n",
       "      <td>0</td>\n",
       "      <td>1953</td>\n",
       "      <td>0</td>\n",
       "      <td>98001</td>\n",
       "      <td>47.3206</td>\n",
       "      <td>-122.269</td>\n",
       "      <td>1690</td>\n",
       "      <td>15675</td>\n",
       "    </tr>\n",
       "    <tr>\n",
       "      <th>14855</th>\n",
       "      <td>324000530</td>\n",
       "      <td>20140708T000000</td>\n",
       "      <td>201500.0</td>\n",
       "      <td>3</td>\n",
       "      <td>1.00</td>\n",
       "      <td>1320</td>\n",
       "      <td>5000</td>\n",
       "      <td>1.5</td>\n",
       "      <td>0</td>\n",
       "      <td>0</td>\n",
       "      <td>...</td>\n",
       "      <td>7</td>\n",
       "      <td>1320</td>\n",
       "      <td>0</td>\n",
       "      <td>1912</td>\n",
       "      <td>0</td>\n",
       "      <td>98116</td>\n",
       "      <td>47.5711</td>\n",
       "      <td>-122.386</td>\n",
       "      <td>1320</td>\n",
       "      <td>4179</td>\n",
       "    </tr>\n",
       "    <tr>\n",
       "      <th>14856</th>\n",
       "      <td>324000530</td>\n",
       "      <td>20150323T000000</td>\n",
       "      <td>459000.0</td>\n",
       "      <td>3</td>\n",
       "      <td>1.00</td>\n",
       "      <td>1320</td>\n",
       "      <td>5000</td>\n",
       "      <td>1.5</td>\n",
       "      <td>0</td>\n",
       "      <td>0</td>\n",
       "      <td>...</td>\n",
       "      <td>7</td>\n",
       "      <td>1320</td>\n",
       "      <td>0</td>\n",
       "      <td>1912</td>\n",
       "      <td>0</td>\n",
       "      <td>98116</td>\n",
       "      <td>47.5711</td>\n",
       "      <td>-122.386</td>\n",
       "      <td>1320</td>\n",
       "      <td>4179</td>\n",
       "    </tr>\n",
       "    <tr>\n",
       "      <th>7178</th>\n",
       "      <td>526059224</td>\n",
       "      <td>20140923T000000</td>\n",
       "      <td>260000.0</td>\n",
       "      <td>4</td>\n",
       "      <td>1.75</td>\n",
       "      <td>1650</td>\n",
       "      <td>7276</td>\n",
       "      <td>1.0</td>\n",
       "      <td>0</td>\n",
       "      <td>0</td>\n",
       "      <td>...</td>\n",
       "      <td>7</td>\n",
       "      <td>1010</td>\n",
       "      <td>640</td>\n",
       "      <td>1977</td>\n",
       "      <td>0</td>\n",
       "      <td>98011</td>\n",
       "      <td>47.7721</td>\n",
       "      <td>-122.206</td>\n",
       "      <td>1840</td>\n",
       "      <td>8550</td>\n",
       "    </tr>\n",
       "    <tr>\n",
       "      <th>7179</th>\n",
       "      <td>526059224</td>\n",
       "      <td>20150206T000000</td>\n",
       "      <td>470000.0</td>\n",
       "      <td>4</td>\n",
       "      <td>1.75</td>\n",
       "      <td>1650</td>\n",
       "      <td>7276</td>\n",
       "      <td>1.0</td>\n",
       "      <td>0</td>\n",
       "      <td>0</td>\n",
       "      <td>...</td>\n",
       "      <td>7</td>\n",
       "      <td>1010</td>\n",
       "      <td>640</td>\n",
       "      <td>1977</td>\n",
       "      <td>0</td>\n",
       "      <td>98011</td>\n",
       "      <td>47.7721</td>\n",
       "      <td>-122.206</td>\n",
       "      <td>1840</td>\n",
       "      <td>8550</td>\n",
       "    </tr>\n",
       "    <tr>\n",
       "      <th>17381</th>\n",
       "      <td>641900050</td>\n",
       "      <td>20140819T000000</td>\n",
       "      <td>335000.0</td>\n",
       "      <td>4</td>\n",
       "      <td>2.25</td>\n",
       "      <td>2160</td>\n",
       "      <td>8817</td>\n",
       "      <td>1.0</td>\n",
       "      <td>0</td>\n",
       "      <td>0</td>\n",
       "      <td>...</td>\n",
       "      <td>7</td>\n",
       "      <td>1460</td>\n",
       "      <td>700</td>\n",
       "      <td>1965</td>\n",
       "      <td>0</td>\n",
       "      <td>98133</td>\n",
       "      <td>47.7595</td>\n",
       "      <td>-122.356</td>\n",
       "      <td>1880</td>\n",
       "      <td>8817</td>\n",
       "    </tr>\n",
       "    <tr>\n",
       "      <th>17382</th>\n",
       "      <td>641900050</td>\n",
       "      <td>20150206T000000</td>\n",
       "      <td>499950.0</td>\n",
       "      <td>4</td>\n",
       "      <td>2.25</td>\n",
       "      <td>2160</td>\n",
       "      <td>8817</td>\n",
       "      <td>1.0</td>\n",
       "      <td>0</td>\n",
       "      <td>0</td>\n",
       "      <td>...</td>\n",
       "      <td>7</td>\n",
       "      <td>1460</td>\n",
       "      <td>700</td>\n",
       "      <td>1965</td>\n",
       "      <td>0</td>\n",
       "      <td>98133</td>\n",
       "      <td>47.7595</td>\n",
       "      <td>-122.356</td>\n",
       "      <td>1880</td>\n",
       "      <td>8817</td>\n",
       "    </tr>\n",
       "    <tr>\n",
       "      <th>19552</th>\n",
       "      <td>643300040</td>\n",
       "      <td>20141104T000000</td>\n",
       "      <td>481000.0</td>\n",
       "      <td>4</td>\n",
       "      <td>1.75</td>\n",
       "      <td>1920</td>\n",
       "      <td>9500</td>\n",
       "      <td>1.0</td>\n",
       "      <td>0</td>\n",
       "      <td>0</td>\n",
       "      <td>...</td>\n",
       "      <td>7</td>\n",
       "      <td>1470</td>\n",
       "      <td>450</td>\n",
       "      <td>1966</td>\n",
       "      <td>0</td>\n",
       "      <td>98006</td>\n",
       "      <td>47.5683</td>\n",
       "      <td>-122.177</td>\n",
       "      <td>1820</td>\n",
       "      <td>10091</td>\n",
       "    </tr>\n",
       "    <tr>\n",
       "      <th>19553</th>\n",
       "      <td>643300040</td>\n",
       "      <td>20150313T000000</td>\n",
       "      <td>719521.0</td>\n",
       "      <td>4</td>\n",
       "      <td>1.75</td>\n",
       "      <td>1920</td>\n",
       "      <td>9500</td>\n",
       "      <td>1.0</td>\n",
       "      <td>0</td>\n",
       "      <td>0</td>\n",
       "      <td>...</td>\n",
       "      <td>7</td>\n",
       "      <td>1470</td>\n",
       "      <td>450</td>\n",
       "      <td>1966</td>\n",
       "      <td>0</td>\n",
       "      <td>98006</td>\n",
       "      <td>47.5683</td>\n",
       "      <td>-122.177</td>\n",
       "      <td>1820</td>\n",
       "      <td>10091</td>\n",
       "    </tr>\n",
       "  </tbody>\n",
       "</table>\n",
       "<p>20 rows × 21 columns</p>\n",
       "</div>"
      ],
      "text/plain": [
       "              id             date     price  bedrooms  bathrooms  sqft_living  \\\n",
       "2496     1000102  20140916T000000  280000.0         6       3.00         2400   \n",
       "2497     1000102  20150422T000000  300000.0         6       3.00         2400   \n",
       "16814    7200179  20141016T000000  150000.0         2       1.00          840   \n",
       "16815    7200179  20150424T000000  175000.0         2       1.00          840   \n",
       "11433  109200390  20140820T000000  245000.0         3       1.75         1480   \n",
       "11434  109200390  20141020T000000  250000.0         3       1.75         1480   \n",
       "12417  123039336  20140611T000000  148000.0         1       1.00          620   \n",
       "12418  123039336  20141208T000000  244900.0         1       1.00          620   \n",
       "7792   251300110  20140731T000000  225000.0         3       2.25         2510   \n",
       "7793   251300110  20150114T000000  358000.0         3       2.25         2510   \n",
       "9234   302000375  20140814T000000  169100.0         3       2.00         1050   \n",
       "9235   302000375  20150506T000000  250000.0         3       2.00         1050   \n",
       "14855  324000530  20140708T000000  201500.0         3       1.00         1320   \n",
       "14856  324000530  20150323T000000  459000.0         3       1.00         1320   \n",
       "7178   526059224  20140923T000000  260000.0         4       1.75         1650   \n",
       "7179   526059224  20150206T000000  470000.0         4       1.75         1650   \n",
       "17381  641900050  20140819T000000  335000.0         4       2.25         2160   \n",
       "17382  641900050  20150206T000000  499950.0         4       2.25         2160   \n",
       "19552  643300040  20141104T000000  481000.0         4       1.75         1920   \n",
       "19553  643300040  20150313T000000  719521.0         4       1.75         1920   \n",
       "\n",
       "       sqft_lot  floors  waterfront  view  ...  grade  sqft_above  \\\n",
       "2496       9373     2.0           0     0  ...      7        2400   \n",
       "2497       9373     2.0           0     0  ...      7        2400   \n",
       "16814     12750     1.0           0     0  ...      6         840   \n",
       "16815     12750     1.0           0     0  ...      6         840   \n",
       "11433      3900     1.0           0     0  ...      7        1480   \n",
       "11434      3900     1.0           0     0  ...      7        1480   \n",
       "12417      8261     1.0           0     0  ...      5         620   \n",
       "12418      8261     1.0           0     0  ...      5         620   \n",
       "7792      12013     2.0           0     0  ...      8        2510   \n",
       "7793      12013     2.0           0     0  ...      8        2510   \n",
       "9234      18304     1.0           0     0  ...      7        1050   \n",
       "9235      18304     1.0           0     0  ...      7        1050   \n",
       "14855      5000     1.5           0     0  ...      7        1320   \n",
       "14856      5000     1.5           0     0  ...      7        1320   \n",
       "7178       7276     1.0           0     0  ...      7        1010   \n",
       "7179       7276     1.0           0     0  ...      7        1010   \n",
       "17381      8817     1.0           0     0  ...      7        1460   \n",
       "17382      8817     1.0           0     0  ...      7        1460   \n",
       "19552      9500     1.0           0     0  ...      7        1470   \n",
       "19553      9500     1.0           0     0  ...      7        1470   \n",
       "\n",
       "       sqft_basement  yr_built  yr_renovated  zipcode      lat     long  \\\n",
       "2496               0      1991             0    98002  47.3262 -122.214   \n",
       "2497               0      1991             0    98002  47.3262 -122.214   \n",
       "16814              0      1925             0    98055  47.4840 -122.211   \n",
       "16815              0      1925             0    98055  47.4840 -122.211   \n",
       "11433              0      1980             0    98023  47.2977 -122.367   \n",
       "11434              0      1980             0    98023  47.2977 -122.367   \n",
       "12417              0      1939             0    98106  47.5138 -122.364   \n",
       "12418              0      1939             0    98106  47.5138 -122.364   \n",
       "7792               0      1988             0    98003  47.3473 -122.314   \n",
       "7793               0      1988             0    98003  47.3473 -122.314   \n",
       "9234               0      1953             0    98001  47.3206 -122.269   \n",
       "9235               0      1953             0    98001  47.3206 -122.269   \n",
       "14855              0      1912             0    98116  47.5711 -122.386   \n",
       "14856              0      1912             0    98116  47.5711 -122.386   \n",
       "7178             640      1977             0    98011  47.7721 -122.206   \n",
       "7179             640      1977             0    98011  47.7721 -122.206   \n",
       "17381            700      1965             0    98133  47.7595 -122.356   \n",
       "17382            700      1965             0    98133  47.7595 -122.356   \n",
       "19552            450      1966             0    98006  47.5683 -122.177   \n",
       "19553            450      1966             0    98006  47.5683 -122.177   \n",
       "\n",
       "       sqft_living15  sqft_lot15  \n",
       "2496            2060        7316  \n",
       "2497            2060        7316  \n",
       "16814           1480        6969  \n",
       "16815           1480        6969  \n",
       "11433           1830        6956  \n",
       "11434           1830        6956  \n",
       "12417           1180        8244  \n",
       "12418           1180        8244  \n",
       "7792            1870        8017  \n",
       "7793            1870        8017  \n",
       "9234            1690       15675  \n",
       "9235            1690       15675  \n",
       "14855           1320        4179  \n",
       "14856           1320        4179  \n",
       "7178            1840        8550  \n",
       "7179            1840        8550  \n",
       "17381           1880        8817  \n",
       "17382           1880        8817  \n",
       "19552           1820       10091  \n",
       "19553           1820       10091  \n",
       "\n",
       "[20 rows x 21 columns]"
      ]
     },
     "execution_count": 230,
     "metadata": {},
     "output_type": "execute_result"
    }
   ],
   "source": [
    "# I used group by to list all houses duplicated\n",
    "pd.concat(cont for i, cont in df.groupby(\"id\") if len(cont) > 1).head(20)"
   ]
  },
  {
   "cell_type": "markdown",
   "id": "outer-method",
   "metadata": {},
   "source": [
    "**Remove duplicates from column ID (last)**"
   ]
  },
  {
   "cell_type": "code",
   "execution_count": 231,
   "id": "conceptual-purse",
   "metadata": {},
   "outputs": [],
   "source": [
    "# I used drop duplicates to remove and keep only last ID\n",
    "df.drop_duplicates(subset='id', keep='last', inplace=True)"
   ]
  },
  {
   "cell_type": "code",
   "execution_count": 232,
   "id": "metric-lightning",
   "metadata": {},
   "outputs": [
    {
     "data": {
      "text/plain": [
       "False    21436\n",
       "dtype: int64"
      ]
     },
     "execution_count": 232,
     "metadata": {},
     "output_type": "execute_result"
    }
   ],
   "source": [
    "#check duplicated again\n",
    "df.duplicated().value_counts()"
   ]
  },
  {
   "cell_type": "markdown",
   "id": "posted-ordering",
   "metadata": {},
   "source": [
    "### Convert data type "
   ]
  },
  {
   "cell_type": "code",
   "execution_count": 233,
   "id": "modern-topic",
   "metadata": {},
   "outputs": [],
   "source": [
    "# use o pd.to_datetime para converter as colunas para tipo data.\n",
    "\n",
    "df['date'] = pd.to_datetime( df['date'])\n",
    "\n"
   ]
  },
  {
   "cell_type": "code",
   "execution_count": 234,
   "id": "loving-injection",
   "metadata": {},
   "outputs": [
    {
     "data": {
      "text/html": [
       "<div>\n",
       "<style scoped>\n",
       "    .dataframe tbody tr th:only-of-type {\n",
       "        vertical-align: middle;\n",
       "    }\n",
       "\n",
       "    .dataframe tbody tr th {\n",
       "        vertical-align: top;\n",
       "    }\n",
       "\n",
       "    .dataframe thead th {\n",
       "        text-align: right;\n",
       "    }\n",
       "</style>\n",
       "<table border=\"1\" class=\"dataframe\">\n",
       "  <thead>\n",
       "    <tr style=\"text-align: right;\">\n",
       "      <th></th>\n",
       "      <th>id</th>\n",
       "      <th>date</th>\n",
       "    </tr>\n",
       "  </thead>\n",
       "  <tbody>\n",
       "    <tr>\n",
       "      <th>0</th>\n",
       "      <td>7129300520</td>\n",
       "      <td>2014-10-13</td>\n",
       "    </tr>\n",
       "    <tr>\n",
       "      <th>1</th>\n",
       "      <td>6414100192</td>\n",
       "      <td>2014-12-09</td>\n",
       "    </tr>\n",
       "    <tr>\n",
       "      <th>2</th>\n",
       "      <td>5631500400</td>\n",
       "      <td>2015-02-25</td>\n",
       "    </tr>\n",
       "    <tr>\n",
       "      <th>3</th>\n",
       "      <td>2487200875</td>\n",
       "      <td>2014-12-09</td>\n",
       "    </tr>\n",
       "    <tr>\n",
       "      <th>4</th>\n",
       "      <td>1954400510</td>\n",
       "      <td>2015-02-18</td>\n",
       "    </tr>\n",
       "  </tbody>\n",
       "</table>\n",
       "</div>"
      ],
      "text/plain": [
       "           id       date\n",
       "0  7129300520 2014-10-13\n",
       "1  6414100192 2014-12-09\n",
       "2  5631500400 2015-02-25\n",
       "3  2487200875 2014-12-09\n",
       "4  1954400510 2015-02-18"
      ]
     },
     "execution_count": 234,
     "metadata": {},
     "output_type": "execute_result"
    }
   ],
   "source": [
    "#df.dtypes\n",
    "df[['id','date']].head()"
   ]
  },
  {
   "cell_type": "markdown",
   "id": "strong-intention",
   "metadata": {},
   "source": [
    "### 1 - Crie uma nova coluna chamada: \"house_age\" \n",
    " - Se o valor da coluna \"date\" for menor que 2015-01-01 <= 'old_house' \n",
    " - Se o valor da coluna \"date\" for maior que 2015-01-01 >= 'new_house'    "
   ]
  },
  {
   "cell_type": "code",
   "execution_count": 235,
   "id": "laden-pregnancy",
   "metadata": {},
   "outputs": [],
   "source": [
    "# Use o np.select para criar nova coluna a partir de 2 ou mais condicoes e atribuir os valore dessa nova coluna.\n",
    "\n",
    "conditionlist = [\n",
    "    (df['date'] >= '2015-01-01'),\n",
    "    (df['date'] <= '2015-01-01')]\n",
    "choicelist = [ 'new_house','old_house']\n",
    "df['house_age'] = np.select(conditionlist, choicelist, default='not specified')"
   ]
  },
  {
   "cell_type": "code",
   "execution_count": 236,
   "id": "collected-personality",
   "metadata": {},
   "outputs": [
    {
     "data": {
      "text/plain": [
       "<bound method NDFrame.rank of house_age\n",
       "new_house     6972\n",
       "old_house    14464\n",
       "dtype: int64>"
      ]
     },
     "execution_count": 236,
     "metadata": {},
     "output_type": "execute_result"
    }
   ],
   "source": [
    "df.groupby(['house_age']).size().rank"
   ]
  },
  {
   "cell_type": "code",
   "execution_count": 237,
   "id": "impressed-seattle",
   "metadata": {},
   "outputs": [
    {
     "data": {
      "text/html": [
       "<div>\n",
       "<style scoped>\n",
       "    .dataframe tbody tr th:only-of-type {\n",
       "        vertical-align: middle;\n",
       "    }\n",
       "\n",
       "    .dataframe tbody tr th {\n",
       "        vertical-align: top;\n",
       "    }\n",
       "\n",
       "    .dataframe thead th {\n",
       "        text-align: right;\n",
       "    }\n",
       "</style>\n",
       "<table border=\"1\" class=\"dataframe\">\n",
       "  <thead>\n",
       "    <tr style=\"text-align: right;\">\n",
       "      <th></th>\n",
       "      <th>date</th>\n",
       "      <th>house_age</th>\n",
       "    </tr>\n",
       "  </thead>\n",
       "  <tbody>\n",
       "    <tr>\n",
       "      <th>0</th>\n",
       "      <td>2014-10-13</td>\n",
       "      <td>old_house</td>\n",
       "    </tr>\n",
       "    <tr>\n",
       "      <th>1</th>\n",
       "      <td>2014-12-09</td>\n",
       "      <td>old_house</td>\n",
       "    </tr>\n",
       "    <tr>\n",
       "      <th>2</th>\n",
       "      <td>2015-02-25</td>\n",
       "      <td>new_house</td>\n",
       "    </tr>\n",
       "    <tr>\n",
       "      <th>3</th>\n",
       "      <td>2014-12-09</td>\n",
       "      <td>old_house</td>\n",
       "    </tr>\n",
       "    <tr>\n",
       "      <th>4</th>\n",
       "      <td>2015-02-18</td>\n",
       "      <td>new_house</td>\n",
       "    </tr>\n",
       "  </tbody>\n",
       "</table>\n",
       "</div>"
      ],
      "text/plain": [
       "        date  house_age\n",
       "0 2014-10-13  old_house\n",
       "1 2014-12-09  old_house\n",
       "2 2015-02-25  new_house\n",
       "3 2014-12-09  old_house\n",
       "4 2015-02-18  new_house"
      ]
     },
     "execution_count": 237,
     "metadata": {},
     "output_type": "execute_result"
    }
   ],
   "source": [
    "df[['date','house_age']].head()"
   ]
  },
  {
   "cell_type": "markdown",
   "id": "unlike-badge",
   "metadata": {},
   "source": [
    "### 2 - Crie uma nova coluna chamada: \"dormitory_type\" \n",
    "- Se o valor da coluna \"bedrooms\" for igual à 1 => 'studio'\n",
    "- Se o valor da coluna \"bedrooms\" for igual a 2 => 'apartament' \n",
    "- Se o valor da coluna \"bedrooms\" for maior que 2 => 'house' "
   ]
  },
  {
   "cell_type": "code",
   "execution_count": 238,
   "id": "modern-citation",
   "metadata": {},
   "outputs": [],
   "source": [
    "list1 = [\n",
    "    (df['bedrooms'] <= 1),\n",
    "    (df['bedrooms'] == 2),\n",
    "    (df['bedrooms'] > 2)]\n",
    "list2 = ['studio','apartment','house']\n",
    "df['dormitory_type'] = np.select( list1, list2, default='not defined')"
   ]
  },
  {
   "cell_type": "code",
   "execution_count": 239,
   "id": "pharmaceutical-wellington",
   "metadata": {},
   "outputs": [
    {
     "data": {
      "text/plain": [
       "dormitory_type\n",
       "studio         207\n",
       "apartment     2736\n",
       "house        18493\n",
       "dtype: int64"
      ]
     },
     "execution_count": 239,
     "metadata": {},
     "output_type": "execute_result"
    }
   ],
   "source": [
    "# rank de atribuicao do dormitory_type\n",
    "df.groupby(['dormitory_type']).size().sort_values()"
   ]
  },
  {
   "cell_type": "code",
   "execution_count": 240,
   "id": "directed-tractor",
   "metadata": {},
   "outputs": [
    {
     "data": {
      "text/html": [
       "<div>\n",
       "<style scoped>\n",
       "    .dataframe tbody tr th:only-of-type {\n",
       "        vertical-align: middle;\n",
       "    }\n",
       "\n",
       "    .dataframe tbody tr th {\n",
       "        vertical-align: top;\n",
       "    }\n",
       "\n",
       "    .dataframe thead th {\n",
       "        text-align: right;\n",
       "    }\n",
       "</style>\n",
       "<table border=\"1\" class=\"dataframe\">\n",
       "  <thead>\n",
       "    <tr style=\"text-align: right;\">\n",
       "      <th></th>\n",
       "      <th>bedrooms</th>\n",
       "      <th>dormitory_type</th>\n",
       "    </tr>\n",
       "  </thead>\n",
       "  <tbody>\n",
       "  </tbody>\n",
       "</table>\n",
       "</div>"
      ],
      "text/plain": [
       "Empty DataFrame\n",
       "Columns: [bedrooms, dormitory_type]\n",
       "Index: []"
      ]
     },
     "execution_count": 240,
     "metadata": {},
     "output_type": "execute_result"
    }
   ],
   "source": [
    "# testa se todos as linhas tiveram atrubuicao\n",
    "df[['bedrooms','dormitory_type']].loc [df['dormitory_type'] == 'not defined' ].head()\n"
   ]
  },
  {
   "cell_type": "markdown",
   "id": "comparable-alabama",
   "metadata": {},
   "source": [
    "### 3. Crie uma nova coluna chamada: \"condition type\" \n",
    "- Se o valor da coluna \"condition\" for menor ou igual à 2 <= 'bad' \n",
    "- Se o valor da coluna \"condition\" for igual à 3 ou 4 = 'regular' \n",
    "- Se o valor da coluna \"condition\" for igual à 5 => 'good' \n"
   ]
  },
  {
   "cell_type": "code",
   "execution_count": 241,
   "id": "natural-colony",
   "metadata": {},
   "outputs": [],
   "source": [
    "list1 = [\n",
    "    (df['condition'] <= 2),\n",
    "    (df['condition'] > 2) & (df['condition'] < 5),\n",
    "    (df['condition'] >= 5)]\n",
    "list2 = ['bad','regular','good']\n",
    "df['condition_type'] = np.select( list1, list2, default='not defined')"
   ]
  },
  {
   "cell_type": "code",
   "execution_count": 242,
   "id": "handled-gardening",
   "metadata": {},
   "outputs": [
    {
     "data": {
      "text/plain": [
       "condition_type\n",
       "bad          193\n",
       "good        1687\n",
       "regular    19556\n",
       "dtype: int64"
      ]
     },
     "execution_count": 242,
     "metadata": {},
     "output_type": "execute_result"
    }
   ],
   "source": [
    "df.groupby(['condition_type']).size().sort_values()"
   ]
  },
  {
   "cell_type": "code",
   "execution_count": 243,
   "id": "conceptual-picnic",
   "metadata": {},
   "outputs": [
    {
     "data": {
      "text/html": [
       "<div>\n",
       "<style scoped>\n",
       "    .dataframe tbody tr th:only-of-type {\n",
       "        vertical-align: middle;\n",
       "    }\n",
       "\n",
       "    .dataframe tbody tr th {\n",
       "        vertical-align: top;\n",
       "    }\n",
       "\n",
       "    .dataframe thead th {\n",
       "        text-align: right;\n",
       "    }\n",
       "</style>\n",
       "<table border=\"1\" class=\"dataframe\">\n",
       "  <thead>\n",
       "    <tr style=\"text-align: right;\">\n",
       "      <th></th>\n",
       "      <th>condition</th>\n",
       "      <th>condition_type</th>\n",
       "    </tr>\n",
       "  </thead>\n",
       "  <tbody>\n",
       "  </tbody>\n",
       "</table>\n",
       "</div>"
      ],
      "text/plain": [
       "Empty DataFrame\n",
       "Columns: [condition, condition_type]\n",
       "Index: []"
      ]
     },
     "execution_count": 243,
     "metadata": {},
     "output_type": "execute_result"
    }
   ],
   "source": [
    "df[['condition','condition_type']].loc [df['condition_type'] == 'not defined'].head()"
   ]
  },
  {
   "cell_type": "markdown",
   "id": "analyzed-philosophy",
   "metadata": {},
   "source": [
    "### 4 - Modifique o TIPO a Coluna \"condition\" para STRING "
   ]
  },
  {
   "cell_type": "code",
   "execution_count": 244,
   "id": "disabled-courage",
   "metadata": {},
   "outputs": [
    {
     "data": {
      "text/plain": [
       "id                         int64\n",
       "date              datetime64[ns]\n",
       "price                    float64\n",
       "bedrooms                   int64\n",
       "bathrooms                float64\n",
       "sqft_living                int64\n",
       "sqft_lot                   int64\n",
       "floors                   float64\n",
       "waterfront                 int64\n",
       "view                       int64\n",
       "condition                 object\n",
       "grade                      int64\n",
       "sqft_above                 int64\n",
       "sqft_basement              int64\n",
       "yr_built                   int64\n",
       "yr_renovated               int64\n",
       "zipcode                    int64\n",
       "lat                      float64\n",
       "long                     float64\n",
       "sqft_living15              int64\n",
       "sqft_lot15                 int64\n",
       "house_age                 object\n",
       "dormitory_type            object\n",
       "condition_type            object\n",
       "dtype: object"
      ]
     },
     "execution_count": 244,
     "metadata": {},
     "output_type": "execute_result"
    }
   ],
   "source": [
    "df.astype({'condition': 'str'}).dtypes"
   ]
  },
  {
   "cell_type": "markdown",
   "id": "environmental-heather",
   "metadata": {},
   "source": [
    "### 5 - Delete as colunas: \"sqft.living15\" e \"sqft_lot15\"  "
   ]
  },
  {
   "cell_type": "code",
   "execution_count": 245,
   "id": "presidential-outline",
   "metadata": {},
   "outputs": [],
   "source": [
    "del df['sqft_living15']"
   ]
  },
  {
   "cell_type": "code",
   "execution_count": 246,
   "id": "fifty-defensive",
   "metadata": {},
   "outputs": [],
   "source": [
    "del df['sqft_lot15']"
   ]
  },
  {
   "cell_type": "markdown",
   "id": "incorporate-montana",
   "metadata": {},
   "source": [
    "### 6 - Modifique o TIPO a Coluna \"yr_build\" para DATE "
   ]
  },
  {
   "cell_type": "code",
   "execution_count": 247,
   "id": "regulation-sunglasses",
   "metadata": {},
   "outputs": [],
   "source": [
    "df['yr_built'] = pd.to_datetime(df['yr_built'] , format= \"%Y\" )"
   ]
  },
  {
   "cell_type": "markdown",
   "id": "short-gibraltar",
   "metadata": {},
   "source": [
    "### 7 -  Modifique o TIPO a Coluna ')\"yr_renovated\" para DATE "
   ]
  },
  {
   "cell_type": "markdown",
   "id": "irish-angola",
   "metadata": {},
   "source": [
    "**nesse caso primeiro e necessario subitituir os valores = 0 por um valor do tipo ano e depois fazer a conversao**\n",
    "**assim substitui os valor zero como o mesmo valor do anos de contrucao**"
   ]
  },
  {
   "cell_type": "code",
   "execution_count": 182,
   "id": "geographic-product",
   "metadata": {},
   "outputs": [
    {
     "ename": "TypeError",
     "evalue": "invalid type promotion",
     "output_type": "error",
     "traceback": [
      "\u001b[1;31m---------------------------------------------------------------------------\u001b[0m",
      "\u001b[1;31mTypeError\u001b[0m                                 Traceback (most recent call last)",
      "\u001b[1;32m<ipython-input-182-8e23b28b33c0>\u001b[0m in \u001b[0;36m<module>\u001b[1;34m\u001b[0m\n\u001b[0;32m      1\u001b[0m \u001b[1;31m# use o np.where para fazer update na coluna 'yr_renovated' onde for 0 preenche com o valor da coluna 'yr_built'.\u001b[0m\u001b[1;33m\u001b[0m\u001b[1;33m\u001b[0m\u001b[1;33m\u001b[0m\u001b[0m\n\u001b[1;32m----> 2\u001b[1;33m \u001b[0mdf\u001b[0m\u001b[1;33m[\u001b[0m\u001b[1;34m'yr_renovated'\u001b[0m\u001b[1;33m]\u001b[0m \u001b[1;33m=\u001b[0m \u001b[0mnp\u001b[0m\u001b[1;33m.\u001b[0m\u001b[0mwhere\u001b[0m\u001b[1;33m(\u001b[0m\u001b[0mdf\u001b[0m\u001b[1;33m[\u001b[0m\u001b[1;34m'yr_renovated'\u001b[0m\u001b[1;33m]\u001b[0m \u001b[1;33m==\u001b[0m \u001b[1;36m0\u001b[0m\u001b[1;33m,\u001b[0m \u001b[0mdf\u001b[0m\u001b[1;33m[\u001b[0m\u001b[1;34m'yr_built'\u001b[0m\u001b[1;33m]\u001b[0m\u001b[1;33m,\u001b[0m \u001b[0mdf\u001b[0m\u001b[1;33m[\u001b[0m\u001b[1;34m'yr_renovated'\u001b[0m\u001b[1;33m]\u001b[0m \u001b[1;33m)\u001b[0m\u001b[1;33m\u001b[0m\u001b[1;33m\u001b[0m\u001b[0m\n\u001b[0m",
      "\u001b[1;32m<__array_function__ internals>\u001b[0m in \u001b[0;36mwhere\u001b[1;34m(*args, **kwargs)\u001b[0m\n",
      "\u001b[1;31mTypeError\u001b[0m: invalid type promotion"
     ]
    }
   ],
   "source": [
    "# use o np.where para fazer update na coluna 'yr_renovated' onde for 0 preenche com o valor da coluna 'yr_built'.\n",
    "df['yr_renovated'] = np.where(df['yr_renovated'] == 0, df['yr_built'], df['yr_renovated'] )"
   ]
  },
  {
   "cell_type": "code",
   "execution_count": 213,
   "id": "monthly-avenue",
   "metadata": {},
   "outputs": [],
   "source": [
    "# use o .to_datetime para converter em date\n",
    "df['yr_renovated'] = pd.to_datetime(df['yr_renovated']  , format= \"%Y\")"
   ]
  },
  {
   "cell_type": "code",
   "execution_count": 214,
   "id": "loaded-system",
   "metadata": {},
   "outputs": [
    {
     "data": {
      "text/html": [
       "<div>\n",
       "<style scoped>\n",
       "    .dataframe tbody tr th:only-of-type {\n",
       "        vertical-align: middle;\n",
       "    }\n",
       "\n",
       "    .dataframe tbody tr th {\n",
       "        vertical-align: top;\n",
       "    }\n",
       "\n",
       "    .dataframe thead th {\n",
       "        text-align: right;\n",
       "    }\n",
       "</style>\n",
       "<table border=\"1\" class=\"dataframe\">\n",
       "  <thead>\n",
       "    <tr style=\"text-align: right;\">\n",
       "      <th></th>\n",
       "      <th>yr_renovated</th>\n",
       "      <th>yr_built</th>\n",
       "    </tr>\n",
       "  </thead>\n",
       "  <tbody>\n",
       "    <tr>\n",
       "      <th>0</th>\n",
       "      <td>1970-01-01 00:00:00.000000000</td>\n",
       "      <td>1955</td>\n",
       "    </tr>\n",
       "    <tr>\n",
       "      <th>1</th>\n",
       "      <td>1970-01-01 00:00:00.000001991</td>\n",
       "      <td>1951</td>\n",
       "    </tr>\n",
       "    <tr>\n",
       "      <th>2</th>\n",
       "      <td>1970-01-01 00:00:00.000000000</td>\n",
       "      <td>1933</td>\n",
       "    </tr>\n",
       "    <tr>\n",
       "      <th>3</th>\n",
       "      <td>1970-01-01 00:00:00.000000000</td>\n",
       "      <td>1965</td>\n",
       "    </tr>\n",
       "    <tr>\n",
       "      <th>4</th>\n",
       "      <td>1970-01-01 00:00:00.000000000</td>\n",
       "      <td>1987</td>\n",
       "    </tr>\n",
       "  </tbody>\n",
       "</table>\n",
       "</div>"
      ],
      "text/plain": [
       "                   yr_renovated  yr_built\n",
       "0 1970-01-01 00:00:00.000000000      1955\n",
       "1 1970-01-01 00:00:00.000001991      1951\n",
       "2 1970-01-01 00:00:00.000000000      1933\n",
       "3 1970-01-01 00:00:00.000000000      1965\n",
       "4 1970-01-01 00:00:00.000000000      1987"
      ]
     },
     "execution_count": 214,
     "metadata": {},
     "output_type": "execute_result"
    }
   ],
   "source": [
    "df[['yr_renovated','yr_built']].head()"
   ]
  },
  {
   "cell_type": "markdown",
   "id": "recognized-portsmouth",
   "metadata": {},
   "source": [
    "## Answering business questions."
   ]
  },
  {
   "cell_type": "markdown",
   "id": "demanding-treasury",
   "metadata": {},
   "source": [
    "### 8 - Qual a data mais antiga de construção de um imóvel?  "
   ]
  },
  {
   "cell_type": "code",
   "execution_count": 175,
   "id": "veterinary-buying",
   "metadata": {},
   "outputs": [
    {
     "data": {
      "text/plain": [
       "1900"
      ]
     },
     "execution_count": 175,
     "metadata": {},
     "output_type": "execute_result"
    }
   ],
   "source": [
    "df['yr_built'].min()"
   ]
  },
  {
   "cell_type": "markdown",
   "id": "identical-segment",
   "metadata": {},
   "source": [
    "**Resposta:** O imovel mais antigo e do ano de 1900."
   ]
  },
  {
   "cell_type": "markdown",
   "id": "included-character",
   "metadata": {},
   "source": [
    "### 9 -  Qual a data mais antiga de renovação de um imóvel?"
   ]
  },
  {
   "cell_type": "code",
   "execution_count": 211,
   "id": "controlling-boring",
   "metadata": {},
   "outputs": [
    {
     "ename": "TypeError",
     "evalue": "Invalid comparison between dtype=int64 and str",
     "output_type": "error",
     "traceback": [
      "\u001b[1;31m---------------------------------------------------------------------------\u001b[0m",
      "\u001b[1;31mTypeError\u001b[0m                                 Traceback (most recent call last)",
      "\u001b[1;32m<ipython-input-211-5ccfae105667>\u001b[0m in \u001b[0;36m<module>\u001b[1;34m\u001b[0m\n\u001b[1;32m----> 1\u001b[1;33m \u001b[0mdf\u001b[0m\u001b[1;33m[\u001b[0m\u001b[0mdf\u001b[0m\u001b[1;33m[\u001b[0m\u001b[1;34m'yr_renovated'\u001b[0m\u001b[1;33m]\u001b[0m \u001b[1;33m>\u001b[0m \u001b[1;34m'1900-01-01 00:00:00'\u001b[0m\u001b[1;33m]\u001b[0m\u001b[1;33m.\u001b[0m\u001b[0mmin\u001b[0m\u001b[1;33m(\u001b[0m\u001b[1;33m)\u001b[0m\u001b[1;33m.\u001b[0m\u001b[0mhead\u001b[0m\u001b[1;33m(\u001b[0m\u001b[1;33m)\u001b[0m\u001b[1;33m\u001b[0m\u001b[1;33m\u001b[0m\u001b[0m\n\u001b[0m",
      "\u001b[1;32m~\\.conda\\envs\\House_Rocket_Sales\\lib\\site-packages\\pandas\\core\\ops\\common.py\u001b[0m in \u001b[0;36mnew_method\u001b[1;34m(self, other)\u001b[0m\n\u001b[0;32m     63\u001b[0m         \u001b[0mother\u001b[0m \u001b[1;33m=\u001b[0m \u001b[0mitem_from_zerodim\u001b[0m\u001b[1;33m(\u001b[0m\u001b[0mother\u001b[0m\u001b[1;33m)\u001b[0m\u001b[1;33m\u001b[0m\u001b[1;33m\u001b[0m\u001b[0m\n\u001b[0;32m     64\u001b[0m \u001b[1;33m\u001b[0m\u001b[0m\n\u001b[1;32m---> 65\u001b[1;33m         \u001b[1;32mreturn\u001b[0m \u001b[0mmethod\u001b[0m\u001b[1;33m(\u001b[0m\u001b[0mself\u001b[0m\u001b[1;33m,\u001b[0m \u001b[0mother\u001b[0m\u001b[1;33m)\u001b[0m\u001b[1;33m\u001b[0m\u001b[1;33m\u001b[0m\u001b[0m\n\u001b[0m\u001b[0;32m     66\u001b[0m \u001b[1;33m\u001b[0m\u001b[0m\n\u001b[0;32m     67\u001b[0m     \u001b[1;32mreturn\u001b[0m \u001b[0mnew_method\u001b[0m\u001b[1;33m\u001b[0m\u001b[1;33m\u001b[0m\u001b[0m\n",
      "\u001b[1;32m~\\.conda\\envs\\House_Rocket_Sales\\lib\\site-packages\\pandas\\core\\arraylike.py\u001b[0m in \u001b[0;36m__gt__\u001b[1;34m(self, other)\u001b[0m\n\u001b[0;32m     43\u001b[0m     \u001b[1;33m@\u001b[0m\u001b[0munpack_zerodim_and_defer\u001b[0m\u001b[1;33m(\u001b[0m\u001b[1;34m\"__gt__\"\u001b[0m\u001b[1;33m)\u001b[0m\u001b[1;33m\u001b[0m\u001b[1;33m\u001b[0m\u001b[0m\n\u001b[0;32m     44\u001b[0m     \u001b[1;32mdef\u001b[0m \u001b[0m__gt__\u001b[0m\u001b[1;33m(\u001b[0m\u001b[0mself\u001b[0m\u001b[1;33m,\u001b[0m \u001b[0mother\u001b[0m\u001b[1;33m)\u001b[0m\u001b[1;33m:\u001b[0m\u001b[1;33m\u001b[0m\u001b[1;33m\u001b[0m\u001b[0m\n\u001b[1;32m---> 45\u001b[1;33m         \u001b[1;32mreturn\u001b[0m \u001b[0mself\u001b[0m\u001b[1;33m.\u001b[0m\u001b[0m_cmp_method\u001b[0m\u001b[1;33m(\u001b[0m\u001b[0mother\u001b[0m\u001b[1;33m,\u001b[0m \u001b[0moperator\u001b[0m\u001b[1;33m.\u001b[0m\u001b[0mgt\u001b[0m\u001b[1;33m)\u001b[0m\u001b[1;33m\u001b[0m\u001b[1;33m\u001b[0m\u001b[0m\n\u001b[0m\u001b[0;32m     46\u001b[0m \u001b[1;33m\u001b[0m\u001b[0m\n\u001b[0;32m     47\u001b[0m     \u001b[1;33m@\u001b[0m\u001b[0munpack_zerodim_and_defer\u001b[0m\u001b[1;33m(\u001b[0m\u001b[1;34m\"__ge__\"\u001b[0m\u001b[1;33m)\u001b[0m\u001b[1;33m\u001b[0m\u001b[1;33m\u001b[0m\u001b[0m\n",
      "\u001b[1;32m~\\.conda\\envs\\House_Rocket_Sales\\lib\\site-packages\\pandas\\core\\series.py\u001b[0m in \u001b[0;36m_cmp_method\u001b[1;34m(self, other, op)\u001b[0m\n\u001b[0;32m   4946\u001b[0m         \u001b[0mrvalues\u001b[0m \u001b[1;33m=\u001b[0m \u001b[0mextract_array\u001b[0m\u001b[1;33m(\u001b[0m\u001b[0mother\u001b[0m\u001b[1;33m,\u001b[0m \u001b[0mextract_numpy\u001b[0m\u001b[1;33m=\u001b[0m\u001b[1;32mTrue\u001b[0m\u001b[1;33m)\u001b[0m\u001b[1;33m\u001b[0m\u001b[1;33m\u001b[0m\u001b[0m\n\u001b[0;32m   4947\u001b[0m \u001b[1;33m\u001b[0m\u001b[0m\n\u001b[1;32m-> 4948\u001b[1;33m         \u001b[0mres_values\u001b[0m \u001b[1;33m=\u001b[0m \u001b[0mops\u001b[0m\u001b[1;33m.\u001b[0m\u001b[0mcomparison_op\u001b[0m\u001b[1;33m(\u001b[0m\u001b[0mlvalues\u001b[0m\u001b[1;33m,\u001b[0m \u001b[0mrvalues\u001b[0m\u001b[1;33m,\u001b[0m \u001b[0mop\u001b[0m\u001b[1;33m)\u001b[0m\u001b[1;33m\u001b[0m\u001b[1;33m\u001b[0m\u001b[0m\n\u001b[0m\u001b[0;32m   4949\u001b[0m \u001b[1;33m\u001b[0m\u001b[0m\n\u001b[0;32m   4950\u001b[0m         \u001b[1;32mreturn\u001b[0m \u001b[0mself\u001b[0m\u001b[1;33m.\u001b[0m\u001b[0m_construct_result\u001b[0m\u001b[1;33m(\u001b[0m\u001b[0mres_values\u001b[0m\u001b[1;33m,\u001b[0m \u001b[0mname\u001b[0m\u001b[1;33m=\u001b[0m\u001b[0mres_name\u001b[0m\u001b[1;33m)\u001b[0m\u001b[1;33m\u001b[0m\u001b[1;33m\u001b[0m\u001b[0m\n",
      "\u001b[1;32m~\\.conda\\envs\\House_Rocket_Sales\\lib\\site-packages\\pandas\\core\\ops\\array_ops.py\u001b[0m in \u001b[0;36mcomparison_op\u001b[1;34m(left, right, op)\u001b[0m\n\u001b[0;32m    238\u001b[0m     \u001b[1;32melif\u001b[0m \u001b[0mis_numeric_v_string_like\u001b[0m\u001b[1;33m(\u001b[0m\u001b[0mlvalues\u001b[0m\u001b[1;33m,\u001b[0m \u001b[0mrvalues\u001b[0m\u001b[1;33m)\u001b[0m\u001b[1;33m:\u001b[0m\u001b[1;33m\u001b[0m\u001b[1;33m\u001b[0m\u001b[0m\n\u001b[0;32m    239\u001b[0m         \u001b[1;31m# GH#36377 going through the numexpr path would incorrectly raise\u001b[0m\u001b[1;33m\u001b[0m\u001b[1;33m\u001b[0m\u001b[1;33m\u001b[0m\u001b[0m\n\u001b[1;32m--> 240\u001b[1;33m         \u001b[1;32mreturn\u001b[0m \u001b[0minvalid_comparison\u001b[0m\u001b[1;33m(\u001b[0m\u001b[0mlvalues\u001b[0m\u001b[1;33m,\u001b[0m \u001b[0mrvalues\u001b[0m\u001b[1;33m,\u001b[0m \u001b[0mop\u001b[0m\u001b[1;33m)\u001b[0m\u001b[1;33m\u001b[0m\u001b[1;33m\u001b[0m\u001b[0m\n\u001b[0m\u001b[0;32m    241\u001b[0m \u001b[1;33m\u001b[0m\u001b[0m\n\u001b[0;32m    242\u001b[0m     \u001b[1;32melif\u001b[0m \u001b[0mis_object_dtype\u001b[0m\u001b[1;33m(\u001b[0m\u001b[0mlvalues\u001b[0m\u001b[1;33m.\u001b[0m\u001b[0mdtype\u001b[0m\u001b[1;33m)\u001b[0m\u001b[1;33m:\u001b[0m\u001b[1;33m\u001b[0m\u001b[1;33m\u001b[0m\u001b[0m\n",
      "\u001b[1;32m~\\.conda\\envs\\House_Rocket_Sales\\lib\\site-packages\\pandas\\core\\ops\\invalid.py\u001b[0m in \u001b[0;36minvalid_comparison\u001b[1;34m(left, right, op)\u001b[0m\n\u001b[0;32m     32\u001b[0m     \u001b[1;32melse\u001b[0m\u001b[1;33m:\u001b[0m\u001b[1;33m\u001b[0m\u001b[1;33m\u001b[0m\u001b[0m\n\u001b[0;32m     33\u001b[0m         \u001b[0mtyp\u001b[0m \u001b[1;33m=\u001b[0m \u001b[0mtype\u001b[0m\u001b[1;33m(\u001b[0m\u001b[0mright\u001b[0m\u001b[1;33m)\u001b[0m\u001b[1;33m.\u001b[0m\u001b[0m__name__\u001b[0m\u001b[1;33m\u001b[0m\u001b[1;33m\u001b[0m\u001b[0m\n\u001b[1;32m---> 34\u001b[1;33m         \u001b[1;32mraise\u001b[0m \u001b[0mTypeError\u001b[0m\u001b[1;33m(\u001b[0m\u001b[1;34mf\"Invalid comparison between dtype={left.dtype} and {typ}\"\u001b[0m\u001b[1;33m)\u001b[0m\u001b[1;33m\u001b[0m\u001b[1;33m\u001b[0m\u001b[0m\n\u001b[0m\u001b[0;32m     35\u001b[0m     \u001b[1;32mreturn\u001b[0m \u001b[0mres_values\u001b[0m\u001b[1;33m\u001b[0m\u001b[1;33m\u001b[0m\u001b[0m\n\u001b[0;32m     36\u001b[0m \u001b[1;33m\u001b[0m\u001b[0m\n",
      "\u001b[1;31mTypeError\u001b[0m: Invalid comparison between dtype=int64 and str"
     ]
    }
   ],
   "source": [
    "df[df['yr_renovated']  '1900-01-01 00:00:00'].min().head()"
   ]
  },
  {
   "cell_type": "markdown",
   "id": "identical-split",
   "metadata": {},
   "source": [
    "### 10 - Quantos imóveis tem 2 andares? "
   ]
  },
  {
   "cell_type": "code",
   "execution_count": 222,
   "id": "mexican-russell",
   "metadata": {},
   "outputs": [
    {
     "data": {
      "text/plain": [
       "floors    8241\n",
       "dtype: int64"
      ]
     },
     "execution_count": 222,
     "metadata": {},
     "output_type": "execute_result"
    }
   ],
   "source": [
    "# use o ex para listar o numero de floors e suas quantidades no dataset' \n",
    "#df.groupby(['floors']).size().sort_values()\n",
    "\n",
    "# use o ex para listar o quantidades de casas com floor == 2 no dataset'\n",
    "df[['floors']].loc [df['floors'] == 2].count()"
   ]
  },
  {
   "cell_type": "markdown",
   "id": "rough-shelter",
   "metadata": {},
   "source": [
    "**Resposta** Existem 8241 casa com 2 floors."
   ]
  },
  {
   "cell_type": "markdown",
   "id": "related-ground",
   "metadata": {},
   "source": [
    "### 11 - Quantos imóveis estão com a condição igual a \"regular\" ?"
   ]
  },
  {
   "cell_type": "code",
   "execution_count": 250,
   "id": "grave-buyer",
   "metadata": {},
   "outputs": [
    {
     "data": {
      "text/plain": [
       "condition_type    19556\n",
       "dtype: int64"
      ]
     },
     "execution_count": 250,
     "metadata": {},
     "output_type": "execute_result"
    }
   ],
   "source": [
    "df[['condition_type']].loc [df['condition_type'] == 'regular'].count()"
   ]
  },
  {
   "cell_type": "markdown",
   "id": "recorded-typing",
   "metadata": {},
   "source": [
    "**Resposta** Existem 19556 imoveisna condicao regular."
   ]
  },
  {
   "cell_type": "markdown",
   "id": "recreational-evening",
   "metadata": {},
   "source": [
    "### 12 - Quantos imóveis estão com a condição igual a \"bad\"e possuem \"vista para agua?"
   ]
  },
  {
   "cell_type": "code",
   "execution_count": 267,
   "id": "brown-necessity",
   "metadata": {},
   "outputs": [
    {
     "data": {
      "text/plain": [
       "2"
      ]
     },
     "execution_count": 267,
     "metadata": {},
     "output_type": "execute_result"
    }
   ],
   "source": [
    "# o ex abaixo para filtrar com 2 ou mais condcoes e exibir a quantidade\n",
    "df[(df['condition_type'] == 'bad') & (df['waterfront'] == 1)].shape[0]\n",
    "\n"
   ]
  },
  {
   "cell_type": "markdown",
   "id": "monthly-domestic",
   "metadata": {},
   "source": [
    "**Resposta** Existem 2 imoveis de frente para o mar na condicao bad."
   ]
  },
  {
   "cell_type": "markdown",
   "id": "impressed-school",
   "metadata": {},
   "source": [
    "### 13 - Quantos imóveis estão com a condição igual a \"good\" e são \"new house\" ?  "
   ]
  },
  {
   "cell_type": "code",
   "execution_count": 268,
   "id": "aware-shoot",
   "metadata": {},
   "outputs": [
    {
     "data": {
      "text/plain": [
       "421"
      ]
     },
     "execution_count": 268,
     "metadata": {},
     "output_type": "execute_result"
    }
   ],
   "source": [
    "df[(df['condition_type'] == 'good') & (df['house_age'] == 'new_house')].shape[0]"
   ]
  },
  {
   "cell_type": "markdown",
   "id": "superb-dominant",
   "metadata": {},
   "source": [
    "**Resposta** Existem 421 imoveis com condicao igual good e sao new house."
   ]
  },
  {
   "cell_type": "markdown",
   "id": "beneficial-bicycle",
   "metadata": {},
   "source": [
    "###  14 - Qual o valor do imóvel mais caro do tipo \"studio\" ? "
   ]
  },
  {
   "cell_type": "code",
   "execution_count": 272,
   "id": "postal-counter",
   "metadata": {},
   "outputs": [
    {
     "data": {
      "text/plain": [
       "price    1295650.0\n",
       "dtype: float64"
      ]
     },
     "execution_count": 272,
     "metadata": {},
     "output_type": "execute_result"
    }
   ],
   "source": [
    "df[['price']].loc [df['dormitory_type'] == 'studio'].max()"
   ]
  },
  {
   "cell_type": "markdown",
   "id": "assumed-publicity",
   "metadata": {},
   "source": [
    "**Resposta** O studio mais cara custa 1295650.0"
   ]
  },
  {
   "cell_type": "code",
   "execution_count": null,
   "id": "brave-hungary",
   "metadata": {},
   "outputs": [],
   "source": []
  },
  {
   "cell_type": "code",
   "execution_count": null,
   "id": "excellent-newark",
   "metadata": {},
   "outputs": [],
   "source": []
  },
  {
   "cell_type": "code",
   "execution_count": null,
   "id": "introductory-ribbon",
   "metadata": {},
   "outputs": [],
   "source": []
  },
  {
   "cell_type": "code",
   "execution_count": null,
   "id": "surface-child",
   "metadata": {},
   "outputs": [],
   "source": []
  },
  {
   "cell_type": "markdown",
   "id": "polyphonic-travel",
   "metadata": {},
   "source": [
    "## Answering business questions."
   ]
  },
  {
   "cell_type": "markdown",
   "id": "drawn-youth",
   "metadata": {},
   "source": [
    "### 1 - Quantas casas estao diponiveis para compra."
   ]
  },
  {
   "cell_type": "code",
   "execution_count": 11,
   "id": "anticipated-hanging",
   "metadata": {},
   "outputs": [
    {
     "data": {
      "text/plain": [
       "21436"
      ]
     },
     "execution_count": 11,
     "metadata": {},
     "output_type": "execute_result"
    }
   ],
   "source": [
    "# Usei nunique para contar quantidade de chave unica do ID\n",
    "df['id'].nunique()"
   ]
  },
  {
   "cell_type": "markdown",
   "id": "isolated-parts",
   "metadata": {},
   "source": [
    "**Resposta** Exixtem 21.436 casa disponivel para compra. "
   ]
  },
  {
   "cell_type": "markdown",
   "id": "frequent-centre",
   "metadata": {},
   "source": [
    "### 2 - Quantos atributos as casas possuem? "
   ]
  },
  {
   "cell_type": "code",
   "execution_count": 12,
   "id": "protective-whole",
   "metadata": {},
   "outputs": [
    {
     "data": {
      "text/plain": [
       "21"
      ]
     },
     "execution_count": 12,
     "metadata": {},
     "output_type": "execute_result"
    }
   ],
   "source": [
    "# use o Shape para contar a quantidade de linhas ou colunas do dataset\n",
    "# df.shape[1] conta as colunas\n",
    "# df.shape[0] conta as linhas\n",
    "df.shape[1]"
   ]
  },
  {
   "cell_type": "markdown",
   "id": "finished-danger",
   "metadata": {},
   "source": [
    "**Resposta** As casa possuem 21 atributos."
   ]
  },
  {
   "cell_type": "markdown",
   "id": "single-suspension",
   "metadata": {},
   "source": [
    "###  3 - Quais são os atributos das casas?"
   ]
  },
  {
   "cell_type": "code",
   "execution_count": 13,
   "id": "champion-defeat",
   "metadata": {},
   "outputs": [
    {
     "data": {
      "text/plain": [
       "Index(['id', 'date', 'price', 'bedrooms', 'bathrooms', 'sqft_living',\n",
       "       'sqft_lot', 'floors', 'waterfront', 'view', 'condition', 'grade',\n",
       "       'sqft_above', 'sqft_basement', 'yr_built', 'yr_renovated', 'zipcode',\n",
       "       'lat', 'long', 'sqft_living15', 'sqft_lot15'],\n",
       "      dtype='object')"
      ]
     },
     "execution_count": 13,
     "metadata": {},
     "output_type": "execute_result"
    }
   ],
   "source": [
    "#use o columns para exibir os nomes das colunas do dataset\n",
    "df.columns"
   ]
  },
  {
   "cell_type": "markdown",
   "id": "induced-python",
   "metadata": {},
   "source": [
    "**Resposta** Os atributos sao id, date, price, bedrooms, bathrooms, sqft_living, sqft_lot, floors, waterfront, view,\n",
    "condition, grade, sqft_above, sqft_basement, yr_built, yr_renovated, zipcode, lat, long, sqft_living15, sqft_lot15"
   ]
  },
  {
   "cell_type": "markdown",
   "id": "closed-giving",
   "metadata": {},
   "source": [
    "###  4 - Qual a casa mais cara (casa com o maior valor de venda)?"
   ]
  },
  {
   "cell_type": "code",
   "execution_count": 14,
   "id": "grand-religious",
   "metadata": {},
   "outputs": [
    {
     "data": {
      "text/html": [
       "<div>\n",
       "<style scoped>\n",
       "    .dataframe tbody tr th:only-of-type {\n",
       "        vertical-align: middle;\n",
       "    }\n",
       "\n",
       "    .dataframe tbody tr th {\n",
       "        vertical-align: top;\n",
       "    }\n",
       "\n",
       "    .dataframe thead th {\n",
       "        text-align: right;\n",
       "    }\n",
       "</style>\n",
       "<table border=\"1\" class=\"dataframe\">\n",
       "  <thead>\n",
       "    <tr style=\"text-align: right;\">\n",
       "      <th></th>\n",
       "      <th>id</th>\n",
       "      <th>date</th>\n",
       "      <th>price</th>\n",
       "      <th>bedrooms</th>\n",
       "      <th>bathrooms</th>\n",
       "      <th>sqft_living</th>\n",
       "      <th>sqft_lot</th>\n",
       "      <th>floors</th>\n",
       "      <th>waterfront</th>\n",
       "      <th>view</th>\n",
       "      <th>...</th>\n",
       "      <th>grade</th>\n",
       "      <th>sqft_above</th>\n",
       "      <th>sqft_basement</th>\n",
       "      <th>yr_built</th>\n",
       "      <th>yr_renovated</th>\n",
       "      <th>zipcode</th>\n",
       "      <th>lat</th>\n",
       "      <th>long</th>\n",
       "      <th>sqft_living15</th>\n",
       "      <th>sqft_lot15</th>\n",
       "    </tr>\n",
       "  </thead>\n",
       "  <tbody>\n",
       "    <tr>\n",
       "      <th>7252</th>\n",
       "      <td>6762700020</td>\n",
       "      <td>20141013T000000</td>\n",
       "      <td>7700000.0</td>\n",
       "      <td>6</td>\n",
       "      <td>8.0</td>\n",
       "      <td>12050</td>\n",
       "      <td>27600</td>\n",
       "      <td>2.5</td>\n",
       "      <td>0</td>\n",
       "      <td>3</td>\n",
       "      <td>...</td>\n",
       "      <td>13</td>\n",
       "      <td>8570</td>\n",
       "      <td>3480</td>\n",
       "      <td>1910</td>\n",
       "      <td>1987</td>\n",
       "      <td>98102</td>\n",
       "      <td>47.6298</td>\n",
       "      <td>-122.323</td>\n",
       "      <td>3940</td>\n",
       "      <td>8800</td>\n",
       "    </tr>\n",
       "  </tbody>\n",
       "</table>\n",
       "<p>1 rows × 21 columns</p>\n",
       "</div>"
      ],
      "text/plain": [
       "              id             date      price  bedrooms  bathrooms  \\\n",
       "7252  6762700020  20141013T000000  7700000.0         6        8.0   \n",
       "\n",
       "      sqft_living  sqft_lot  floors  waterfront  view  ...  grade  sqft_above  \\\n",
       "7252        12050     27600     2.5           0     3  ...     13        8570   \n",
       "\n",
       "      sqft_basement  yr_built  yr_renovated  zipcode      lat     long  \\\n",
       "7252           3480      1910          1987    98102  47.6298 -122.323   \n",
       "\n",
       "      sqft_living15  sqft_lot15  \n",
       "7252           3940        8800  \n",
       "\n",
       "[1 rows x 21 columns]"
      ]
     },
     "execution_count": 14,
     "metadata": {},
     "output_type": "execute_result"
    }
   ],
   "source": [
    "# use o sort_values(by=) para buscar valores ordenados por uma coluna\n",
    "# pode ser usando tanbem o .rank()\n",
    "df.sort_values(by='price',ascending=False).head(1)"
   ]
  },
  {
   "cell_type": "markdown",
   "id": "departmental-romantic",
   "metadata": {},
   "source": [
    "**Resposta** A casa do ID 6762700020 tem o maior valor de venda de 7700000.0 "
   ]
  },
  {
   "cell_type": "markdown",
   "id": "average-judgment",
   "metadata": {},
   "source": [
    "###  5 - Qual a casa com o maior número de quartos?"
   ]
  },
  {
   "cell_type": "code",
   "execution_count": 15,
   "id": "increasing-postage",
   "metadata": {},
   "outputs": [
    {
     "data": {
      "text/html": [
       "<div>\n",
       "<style scoped>\n",
       "    .dataframe tbody tr th:only-of-type {\n",
       "        vertical-align: middle;\n",
       "    }\n",
       "\n",
       "    .dataframe tbody tr th {\n",
       "        vertical-align: top;\n",
       "    }\n",
       "\n",
       "    .dataframe thead th {\n",
       "        text-align: right;\n",
       "    }\n",
       "</style>\n",
       "<table border=\"1\" class=\"dataframe\">\n",
       "  <thead>\n",
       "    <tr style=\"text-align: right;\">\n",
       "      <th></th>\n",
       "      <th>id</th>\n",
       "      <th>date</th>\n",
       "      <th>price</th>\n",
       "      <th>bedrooms</th>\n",
       "      <th>bathrooms</th>\n",
       "      <th>sqft_living</th>\n",
       "      <th>sqft_lot</th>\n",
       "      <th>floors</th>\n",
       "      <th>waterfront</th>\n",
       "      <th>view</th>\n",
       "      <th>...</th>\n",
       "      <th>grade</th>\n",
       "      <th>sqft_above</th>\n",
       "      <th>sqft_basement</th>\n",
       "      <th>yr_built</th>\n",
       "      <th>yr_renovated</th>\n",
       "      <th>zipcode</th>\n",
       "      <th>lat</th>\n",
       "      <th>long</th>\n",
       "      <th>sqft_living15</th>\n",
       "      <th>sqft_lot15</th>\n",
       "    </tr>\n",
       "  </thead>\n",
       "  <tbody>\n",
       "    <tr>\n",
       "      <th>15870</th>\n",
       "      <td>2402100895</td>\n",
       "      <td>20140625T000000</td>\n",
       "      <td>640000.0</td>\n",
       "      <td>33</td>\n",
       "      <td>1.75</td>\n",
       "      <td>1620</td>\n",
       "      <td>6000</td>\n",
       "      <td>1.0</td>\n",
       "      <td>0</td>\n",
       "      <td>0</td>\n",
       "      <td>...</td>\n",
       "      <td>7</td>\n",
       "      <td>1040</td>\n",
       "      <td>580</td>\n",
       "      <td>1947</td>\n",
       "      <td>0</td>\n",
       "      <td>98103</td>\n",
       "      <td>47.6878</td>\n",
       "      <td>-122.331</td>\n",
       "      <td>1330</td>\n",
       "      <td>4700</td>\n",
       "    </tr>\n",
       "  </tbody>\n",
       "</table>\n",
       "<p>1 rows × 21 columns</p>\n",
       "</div>"
      ],
      "text/plain": [
       "               id             date     price  bedrooms  bathrooms  \\\n",
       "15870  2402100895  20140625T000000  640000.0        33       1.75   \n",
       "\n",
       "       sqft_living  sqft_lot  floors  waterfront  view  ...  grade  \\\n",
       "15870         1620      6000     1.0           0     0  ...      7   \n",
       "\n",
       "       sqft_above  sqft_basement  yr_built  yr_renovated  zipcode      lat  \\\n",
       "15870        1040            580      1947             0    98103  47.6878   \n",
       "\n",
       "          long  sqft_living15  sqft_lot15  \n",
       "15870 -122.331           1330        4700  \n",
       "\n",
       "[1 rows x 21 columns]"
      ]
     },
     "execution_count": 15,
     "metadata": {},
     "output_type": "execute_result"
    }
   ],
   "source": [
    "df.sort_values(by='bedrooms',ascending=False).head(1)"
   ]
  },
  {
   "cell_type": "markdown",
   "id": "rural-insert",
   "metadata": {},
   "source": [
    "**Resposta** A maior com numeros de quartos e a casa de ID 2402100895 tem 33 quartos."
   ]
  },
  {
   "cell_type": "markdown",
   "id": "pediatric-designation",
   "metadata": {},
   "source": [
    "### 6 - Qual a soma total de quartos do conjunto de dados? "
   ]
  },
  {
   "cell_type": "code",
   "execution_count": 16,
   "id": "ordinary-motivation",
   "metadata": {},
   "outputs": [
    {
     "data": {
      "text/plain": [
       "72273"
      ]
     },
     "execution_count": 16,
     "metadata": {},
     "output_type": "execute_result"
    }
   ],
   "source": [
    "df['bedrooms'].sum()"
   ]
  },
  {
   "cell_type": "markdown",
   "id": "banned-understanding",
   "metadata": {},
   "source": [
    "**Resposta** O total de quartos do conjunto de dados e 72273"
   ]
  },
  {
   "cell_type": "markdown",
   "id": "extensive-robinson",
   "metadata": {},
   "source": [
    "###  7 - Quantas casas possuem 2 banheiros?"
   ]
  },
  {
   "cell_type": "code",
   "execution_count": 64,
   "id": "magnetic-paraguay",
   "metadata": {},
   "outputs": [
    {
     "data": {
      "text/plain": [
       "1913"
      ]
     },
     "execution_count": 64,
     "metadata": {},
     "output_type": "execute_result"
    }
   ],
   "source": [
    "#use o loc pra contar na coluna bathroom quanto sao igual a 2\n",
    "df.loc[df['bathrooms'] == 2].shape[0]\n"
   ]
  },
  {
   "cell_type": "markdown",
   "id": "private-float",
   "metadata": {},
   "source": [
    "**Resposta** 1913 casa possuem 2 banheiros."
   ]
  },
  {
   "cell_type": "markdown",
   "id": "powered-moral",
   "metadata": {},
   "source": [
    "### 8 -  Qual o preço médio de todas as casas no conjunto de dados?"
   ]
  },
  {
   "cell_type": "code",
   "execution_count": 18,
   "id": "pursuant-county",
   "metadata": {},
   "outputs": [
    {
     "data": {
      "text/plain": [
       "541649.962726255"
      ]
     },
     "execution_count": 18,
     "metadata": {},
     "output_type": "execute_result"
    }
   ],
   "source": [
    "# use o .mean() para calcular o preco medio\n",
    "df['price'].mean()"
   ]
  },
  {
   "cell_type": "markdown",
   "id": "average-estonia",
   "metadata": {},
   "source": [
    "**Resposta** Opreco medio das casa e de 541649.96"
   ]
  },
  {
   "cell_type": "markdown",
   "id": "parental-deficit",
   "metadata": {},
   "source": [
    "### 9 - Qual o preço médio de casas com 2 banheiros? "
   ]
  },
  {
   "cell_type": "code",
   "execution_count": 19,
   "id": "bulgarian-court",
   "metadata": {},
   "outputs": [
    {
     "data": {
      "text/plain": [
       "price        459307.013591\n",
       "bathrooms         2.000000\n",
       "dtype: float64"
      ]
     },
     "execution_count": 19,
     "metadata": {},
     "output_type": "execute_result"
    }
   ],
   "source": [
    "# use o .mean() com o .loc para calcular o preco medio de casas com 2 banheiros\n",
    "df[['price','bathrooms']].loc[df['bathrooms'] == 2].mean()"
   ]
  },
  {
   "cell_type": "markdown",
   "id": "sacred-texas",
   "metadata": {},
   "source": [
    "**Resposta** O preco medio de casas com 2 banheiros e de 459307.01"
   ]
  },
  {
   "cell_type": "markdown",
   "id": "ignored-stopping",
   "metadata": {},
   "source": [
    "###  10 - Qual o preço mínimo entre as casas com 3 quartos?"
   ]
  },
  {
   "cell_type": "code",
   "execution_count": 79,
   "id": "changing-updating",
   "metadata": {},
   "outputs": [
    {
     "data": {
      "text/plain": [
       "price       89000.0\n",
       "bedrooms        3.0\n",
       "dtype: float64"
      ]
     },
     "execution_count": 79,
     "metadata": {},
     "output_type": "execute_result"
    }
   ],
   "source": [
    "df[['price','bedrooms']].loc[df['bedrooms'] == 3].min()"
   ]
  },
  {
   "cell_type": "markdown",
   "id": "adverse-angola",
   "metadata": {},
   "source": [
    "**Resposta** Opreco medio de casas com 3 quartos e de 89000.0"
   ]
  },
  {
   "cell_type": "markdown",
   "id": "backed-affiliation",
   "metadata": {},
   "source": [
    "### 11 -  Quantas casas possuem mais de 300 metros quadrados de sala de estar?"
   ]
  },
  {
   "cell_type": "markdown",
   "id": "combined-matter",
   "metadata": {},
   "source": [
    "Para responder essa questão, será necessário fazer a conversão de pés para metros quadrados, bastando, para tanto, realizar a multiplicação por 0.0929."
   ]
  },
  {
   "cell_type": "code",
   "execution_count": 21,
   "id": "amazing-current",
   "metadata": {},
   "outputs": [
    {
     "data": {
      "text/html": [
       "<div>\n",
       "<style scoped>\n",
       "    .dataframe tbody tr th:only-of-type {\n",
       "        vertical-align: middle;\n",
       "    }\n",
       "\n",
       "    .dataframe tbody tr th {\n",
       "        vertical-align: top;\n",
       "    }\n",
       "\n",
       "    .dataframe thead th {\n",
       "        text-align: right;\n",
       "    }\n",
       "</style>\n",
       "<table border=\"1\" class=\"dataframe\">\n",
       "  <thead>\n",
       "    <tr style=\"text-align: right;\">\n",
       "      <th></th>\n",
       "      <th>id</th>\n",
       "      <th>date</th>\n",
       "      <th>price</th>\n",
       "      <th>bedrooms</th>\n",
       "      <th>bathrooms</th>\n",
       "      <th>sqft_living</th>\n",
       "      <th>sqft_lot</th>\n",
       "      <th>floors</th>\n",
       "      <th>waterfront</th>\n",
       "      <th>view</th>\n",
       "      <th>...</th>\n",
       "      <th>sqft_above</th>\n",
       "      <th>sqft_basement</th>\n",
       "      <th>yr_built</th>\n",
       "      <th>yr_renovated</th>\n",
       "      <th>zipcode</th>\n",
       "      <th>lat</th>\n",
       "      <th>long</th>\n",
       "      <th>sqft_living15</th>\n",
       "      <th>sqft_lot15</th>\n",
       "      <th>m2_living</th>\n",
       "    </tr>\n",
       "  </thead>\n",
       "  <tbody>\n",
       "    <tr>\n",
       "      <th>0</th>\n",
       "      <td>7129300520</td>\n",
       "      <td>20141013T000000</td>\n",
       "      <td>221900.0</td>\n",
       "      <td>3</td>\n",
       "      <td>1.00</td>\n",
       "      <td>1180</td>\n",
       "      <td>5650</td>\n",
       "      <td>1.0</td>\n",
       "      <td>0</td>\n",
       "      <td>0</td>\n",
       "      <td>...</td>\n",
       "      <td>1180</td>\n",
       "      <td>0</td>\n",
       "      <td>1955</td>\n",
       "      <td>0</td>\n",
       "      <td>98178</td>\n",
       "      <td>47.5112</td>\n",
       "      <td>-122.257</td>\n",
       "      <td>1340</td>\n",
       "      <td>5650</td>\n",
       "      <td>108.56</td>\n",
       "    </tr>\n",
       "    <tr>\n",
       "      <th>1</th>\n",
       "      <td>6414100192</td>\n",
       "      <td>20141209T000000</td>\n",
       "      <td>538000.0</td>\n",
       "      <td>3</td>\n",
       "      <td>2.25</td>\n",
       "      <td>2570</td>\n",
       "      <td>7242</td>\n",
       "      <td>2.0</td>\n",
       "      <td>0</td>\n",
       "      <td>0</td>\n",
       "      <td>...</td>\n",
       "      <td>2170</td>\n",
       "      <td>400</td>\n",
       "      <td>1951</td>\n",
       "      <td>1991</td>\n",
       "      <td>98125</td>\n",
       "      <td>47.7210</td>\n",
       "      <td>-122.319</td>\n",
       "      <td>1690</td>\n",
       "      <td>7639</td>\n",
       "      <td>236.44</td>\n",
       "    </tr>\n",
       "    <tr>\n",
       "      <th>2</th>\n",
       "      <td>5631500400</td>\n",
       "      <td>20150225T000000</td>\n",
       "      <td>180000.0</td>\n",
       "      <td>2</td>\n",
       "      <td>1.00</td>\n",
       "      <td>770</td>\n",
       "      <td>10000</td>\n",
       "      <td>1.0</td>\n",
       "      <td>0</td>\n",
       "      <td>0</td>\n",
       "      <td>...</td>\n",
       "      <td>770</td>\n",
       "      <td>0</td>\n",
       "      <td>1933</td>\n",
       "      <td>0</td>\n",
       "      <td>98028</td>\n",
       "      <td>47.7379</td>\n",
       "      <td>-122.233</td>\n",
       "      <td>2720</td>\n",
       "      <td>8062</td>\n",
       "      <td>70.84</td>\n",
       "    </tr>\n",
       "    <tr>\n",
       "      <th>3</th>\n",
       "      <td>2487200875</td>\n",
       "      <td>20141209T000000</td>\n",
       "      <td>604000.0</td>\n",
       "      <td>4</td>\n",
       "      <td>3.00</td>\n",
       "      <td>1960</td>\n",
       "      <td>5000</td>\n",
       "      <td>1.0</td>\n",
       "      <td>0</td>\n",
       "      <td>0</td>\n",
       "      <td>...</td>\n",
       "      <td>1050</td>\n",
       "      <td>910</td>\n",
       "      <td>1965</td>\n",
       "      <td>0</td>\n",
       "      <td>98136</td>\n",
       "      <td>47.5208</td>\n",
       "      <td>-122.393</td>\n",
       "      <td>1360</td>\n",
       "      <td>5000</td>\n",
       "      <td>180.32</td>\n",
       "    </tr>\n",
       "    <tr>\n",
       "      <th>4</th>\n",
       "      <td>1954400510</td>\n",
       "      <td>20150218T000000</td>\n",
       "      <td>510000.0</td>\n",
       "      <td>3</td>\n",
       "      <td>2.00</td>\n",
       "      <td>1680</td>\n",
       "      <td>8080</td>\n",
       "      <td>1.0</td>\n",
       "      <td>0</td>\n",
       "      <td>0</td>\n",
       "      <td>...</td>\n",
       "      <td>1680</td>\n",
       "      <td>0</td>\n",
       "      <td>1987</td>\n",
       "      <td>0</td>\n",
       "      <td>98074</td>\n",
       "      <td>47.6168</td>\n",
       "      <td>-122.045</td>\n",
       "      <td>1800</td>\n",
       "      <td>7503</td>\n",
       "      <td>154.56</td>\n",
       "    </tr>\n",
       "  </tbody>\n",
       "</table>\n",
       "<p>5 rows × 22 columns</p>\n",
       "</div>"
      ],
      "text/plain": [
       "           id             date     price  bedrooms  bathrooms  sqft_living  \\\n",
       "0  7129300520  20141013T000000  221900.0         3       1.00         1180   \n",
       "1  6414100192  20141209T000000  538000.0         3       2.25         2570   \n",
       "2  5631500400  20150225T000000  180000.0         2       1.00          770   \n",
       "3  2487200875  20141209T000000  604000.0         4       3.00         1960   \n",
       "4  1954400510  20150218T000000  510000.0         3       2.00         1680   \n",
       "\n",
       "   sqft_lot  floors  waterfront  view  ...  sqft_above  sqft_basement  \\\n",
       "0      5650     1.0           0     0  ...        1180              0   \n",
       "1      7242     2.0           0     0  ...        2170            400   \n",
       "2     10000     1.0           0     0  ...         770              0   \n",
       "3      5000     1.0           0     0  ...        1050            910   \n",
       "4      8080     1.0           0     0  ...        1680              0   \n",
       "\n",
       "   yr_built  yr_renovated  zipcode      lat     long  sqft_living15  \\\n",
       "0      1955             0    98178  47.5112 -122.257           1340   \n",
       "1      1951          1991    98125  47.7210 -122.319           1690   \n",
       "2      1933             0    98028  47.7379 -122.233           2720   \n",
       "3      1965             0    98136  47.5208 -122.393           1360   \n",
       "4      1987             0    98074  47.6168 -122.045           1800   \n",
       "\n",
       "   sqft_lot15  m2_living  \n",
       "0        5650     108.56  \n",
       "1        7639     236.44  \n",
       "2        8062      70.84  \n",
       "3        5000     180.32  \n",
       "4        7503     154.56  \n",
       "\n",
       "[5 rows x 22 columns]"
      ]
     },
     "execution_count": 21,
     "metadata": {},
     "output_type": "execute_result"
    }
   ],
   "source": [
    "# criando uma nova coluna para receber a conversão\n",
    "df['m2_living'] = df['sqft_living'] * 0.092\n",
    "\n",
    "# verificando o resultado\n",
    "df.head()"
   ]
  },
  {
   "cell_type": "code",
   "execution_count": 22,
   "id": "behavioral-sullivan",
   "metadata": {},
   "outputs": [
    {
     "data": {
      "text/plain": [
       "2135"
      ]
     },
     "execution_count": 22,
     "metadata": {},
     "output_type": "execute_result"
    }
   ],
   "source": [
    "# use o .shape[] para contar as linhas na coluna m2_living com valores maior que 300\n",
    "df [df ['m2_living'] > 300] .shape[0]"
   ]
  },
  {
   "cell_type": "markdown",
   "id": "linear-diagnosis",
   "metadata": {},
   "source": [
    "**Resposta** 2251 casas possuem sala de estar com mais de 300 m2"
   ]
  },
  {
   "cell_type": "markdown",
   "id": "reasonable-british",
   "metadata": {},
   "source": [
    "### 12 -  Quantas casas tem mais de 2 andares?"
   ]
  },
  {
   "cell_type": "code",
   "execution_count": 23,
   "id": "representative-fundamental",
   "metadata": {},
   "outputs": [
    {
     "data": {
      "text/plain": [
       "780"
      ]
     },
     "execution_count": 23,
     "metadata": {},
     "output_type": "execute_result"
    }
   ],
   "source": [
    "#use o .shape para contar na coluna Floor\n",
    "df[df['floors'] > 2] .shape[0]"
   ]
  },
  {
   "cell_type": "markdown",
   "id": "personalized-mayor",
   "metadata": {},
   "source": [
    "**Resposta** 780 casas possuem masi de 2 andares."
   ]
  },
  {
   "cell_type": "markdown",
   "id": "eleven-paste",
   "metadata": {},
   "source": [
    "###  13 - Quantas casas tem vista para o mar?"
   ]
  },
  {
   "cell_type": "code",
   "execution_count": 24,
   "id": "assumed-briefs",
   "metadata": {},
   "outputs": [
    {
     "data": {
      "text/plain": [
       "163"
      ]
     },
     "execution_count": 24,
     "metadata": {},
     "output_type": "execute_result"
    }
   ],
   "source": [
    "# use o != 'diferente' e o .shape para contar os valores\n",
    "df[df['waterfront'] != 0] .shape[0]"
   ]
  },
  {
   "cell_type": "markdown",
   "id": "continent-specialist",
   "metadata": {},
   "source": [
    "**Resposta** 163 Casas tem vista para o mar."
   ]
  },
  {
   "cell_type": "markdown",
   "id": "rubber-excellence",
   "metadata": {},
   "source": [
    "### 14 -  Das casas com vista para o mar, quantas tem 3 quartos?"
   ]
  },
  {
   "cell_type": "code",
   "execution_count": 25,
   "id": "conceptual-horse",
   "metadata": {},
   "outputs": [
    {
     "data": {
      "text/plain": [
       "64"
      ]
     },
     "execution_count": 25,
     "metadata": {},
     "output_type": "execute_result"
    }
   ],
   "source": [
    "# use o & para fazer o and e juntar os dicionario entre parentese \"()\"\n",
    "df[(df['waterfront'] != 0) & (df['bedrooms'] == 3)] .shape[0]"
   ]
  },
  {
   "cell_type": "markdown",
   "id": "alive-outdoors",
   "metadata": {},
   "source": [
    "**Resposta** 64 Casas tem vista para o mar e possuem 3 quartos."
   ]
  },
  {
   "cell_type": "markdown",
   "id": "sapphire-johnston",
   "metadata": {},
   "source": [
    "### 15 -  Das casas com mais de 300 metros quadrados de sala de estar, quantas tem mais de 2 banheiros?"
   ]
  },
  {
   "cell_type": "code",
   "execution_count": 26,
   "id": "affiliated-calculation",
   "metadata": {},
   "outputs": [
    {
     "data": {
      "text/plain": [
       "2082"
      ]
     },
     "execution_count": 26,
     "metadata": {},
     "output_type": "execute_result"
    }
   ],
   "source": [
    "# use o & para fazer o and e juntar os dicionario entre parentese \"()\"\n",
    "df[(df['m2_living'] > 300) & (df['bathrooms'] > 2)] . shape[0]"
   ]
  },
  {
   "cell_type": "markdown",
   "id": "protected-gossip",
   "metadata": {},
   "source": [
    "**Resposta** 2082 casas tem mais de 300 m2 de sala e masi de  2 banheiros"
   ]
  },
  {
   "cell_type": "code",
   "execution_count": 27,
   "id": "complimentary-aquatic",
   "metadata": {},
   "outputs": [
    {
     "data": {
      "text/plain": [
       "44"
      ]
     },
     "execution_count": 27,
     "metadata": {},
     "output_type": "execute_result"
    }
   ],
   "source": [
    "df[(df['price'] > 3000000) & (df['bathrooms'] > 2)] . shape[0]"
   ]
  },
  {
   "cell_type": "markdown",
   "id": "silver-guinea",
   "metadata": {},
   "source": [
    "# Check point to Export Dataset 1.0"
   ]
  },
  {
   "cell_type": "markdown",
   "id": "greek-award",
   "metadata": {},
   "source": [
    "**Criando copia do dataset modificado para visualizacao no POWER BI**"
   ]
  },
  {
   "cell_type": "code",
   "execution_count": 37,
   "id": "valid-investment",
   "metadata": {},
   "outputs": [],
   "source": [
    "dfv = df\n",
    "dfv.to_csv('data/kc_house_data_viz.csv', index=False)"
   ]
  },
  {
   "cell_type": "code",
   "execution_count": 38,
   "id": "tracked-liverpool",
   "metadata": {},
   "outputs": [
    {
     "data": {
      "text/html": [
       "<div>\n",
       "<style scoped>\n",
       "    .dataframe tbody tr th:only-of-type {\n",
       "        vertical-align: middle;\n",
       "    }\n",
       "\n",
       "    .dataframe tbody tr th {\n",
       "        vertical-align: top;\n",
       "    }\n",
       "\n",
       "    .dataframe thead th {\n",
       "        text-align: right;\n",
       "    }\n",
       "</style>\n",
       "<table border=\"1\" class=\"dataframe\">\n",
       "  <thead>\n",
       "    <tr style=\"text-align: right;\">\n",
       "      <th></th>\n",
       "      <th>id</th>\n",
       "      <th>date</th>\n",
       "      <th>price</th>\n",
       "      <th>bedrooms</th>\n",
       "      <th>bathrooms</th>\n",
       "      <th>sqft_living</th>\n",
       "      <th>sqft_lot</th>\n",
       "      <th>floors</th>\n",
       "      <th>waterfront</th>\n",
       "      <th>view</th>\n",
       "      <th>...</th>\n",
       "      <th>sqft_above</th>\n",
       "      <th>sqft_basement</th>\n",
       "      <th>yr_built</th>\n",
       "      <th>yr_renovated</th>\n",
       "      <th>zipcode</th>\n",
       "      <th>lat</th>\n",
       "      <th>long</th>\n",
       "      <th>sqft_living15</th>\n",
       "      <th>sqft_lot15</th>\n",
       "      <th>m2_living</th>\n",
       "    </tr>\n",
       "  </thead>\n",
       "  <tbody>\n",
       "    <tr>\n",
       "      <th>0</th>\n",
       "      <td>7129300520</td>\n",
       "      <td>2014-10-13</td>\n",
       "      <td>221900.0</td>\n",
       "      <td>3</td>\n",
       "      <td>1.00</td>\n",
       "      <td>1180</td>\n",
       "      <td>5650</td>\n",
       "      <td>1.0</td>\n",
       "      <td>0</td>\n",
       "      <td>0</td>\n",
       "      <td>...</td>\n",
       "      <td>1180</td>\n",
       "      <td>0</td>\n",
       "      <td>1955</td>\n",
       "      <td>0</td>\n",
       "      <td>98178</td>\n",
       "      <td>47.5112</td>\n",
       "      <td>-122.257</td>\n",
       "      <td>1340</td>\n",
       "      <td>5650</td>\n",
       "      <td>108.56</td>\n",
       "    </tr>\n",
       "    <tr>\n",
       "      <th>1</th>\n",
       "      <td>6414100192</td>\n",
       "      <td>2014-12-09</td>\n",
       "      <td>538000.0</td>\n",
       "      <td>3</td>\n",
       "      <td>2.25</td>\n",
       "      <td>2570</td>\n",
       "      <td>7242</td>\n",
       "      <td>2.0</td>\n",
       "      <td>0</td>\n",
       "      <td>0</td>\n",
       "      <td>...</td>\n",
       "      <td>2170</td>\n",
       "      <td>400</td>\n",
       "      <td>1951</td>\n",
       "      <td>1991</td>\n",
       "      <td>98125</td>\n",
       "      <td>47.7210</td>\n",
       "      <td>-122.319</td>\n",
       "      <td>1690</td>\n",
       "      <td>7639</td>\n",
       "      <td>236.44</td>\n",
       "    </tr>\n",
       "    <tr>\n",
       "      <th>2</th>\n",
       "      <td>5631500400</td>\n",
       "      <td>2015-02-25</td>\n",
       "      <td>180000.0</td>\n",
       "      <td>2</td>\n",
       "      <td>1.00</td>\n",
       "      <td>770</td>\n",
       "      <td>10000</td>\n",
       "      <td>1.0</td>\n",
       "      <td>0</td>\n",
       "      <td>0</td>\n",
       "      <td>...</td>\n",
       "      <td>770</td>\n",
       "      <td>0</td>\n",
       "      <td>1933</td>\n",
       "      <td>0</td>\n",
       "      <td>98028</td>\n",
       "      <td>47.7379</td>\n",
       "      <td>-122.233</td>\n",
       "      <td>2720</td>\n",
       "      <td>8062</td>\n",
       "      <td>70.84</td>\n",
       "    </tr>\n",
       "    <tr>\n",
       "      <th>3</th>\n",
       "      <td>2487200875</td>\n",
       "      <td>2014-12-09</td>\n",
       "      <td>604000.0</td>\n",
       "      <td>4</td>\n",
       "      <td>3.00</td>\n",
       "      <td>1960</td>\n",
       "      <td>5000</td>\n",
       "      <td>1.0</td>\n",
       "      <td>0</td>\n",
       "      <td>0</td>\n",
       "      <td>...</td>\n",
       "      <td>1050</td>\n",
       "      <td>910</td>\n",
       "      <td>1965</td>\n",
       "      <td>0</td>\n",
       "      <td>98136</td>\n",
       "      <td>47.5208</td>\n",
       "      <td>-122.393</td>\n",
       "      <td>1360</td>\n",
       "      <td>5000</td>\n",
       "      <td>180.32</td>\n",
       "    </tr>\n",
       "    <tr>\n",
       "      <th>4</th>\n",
       "      <td>1954400510</td>\n",
       "      <td>2015-02-18</td>\n",
       "      <td>510000.0</td>\n",
       "      <td>3</td>\n",
       "      <td>2.00</td>\n",
       "      <td>1680</td>\n",
       "      <td>8080</td>\n",
       "      <td>1.0</td>\n",
       "      <td>0</td>\n",
       "      <td>0</td>\n",
       "      <td>...</td>\n",
       "      <td>1680</td>\n",
       "      <td>0</td>\n",
       "      <td>1987</td>\n",
       "      <td>0</td>\n",
       "      <td>98074</td>\n",
       "      <td>47.6168</td>\n",
       "      <td>-122.045</td>\n",
       "      <td>1800</td>\n",
       "      <td>7503</td>\n",
       "      <td>154.56</td>\n",
       "    </tr>\n",
       "  </tbody>\n",
       "</table>\n",
       "<p>5 rows × 22 columns</p>\n",
       "</div>"
      ],
      "text/plain": [
       "           id       date     price  bedrooms  bathrooms  sqft_living  \\\n",
       "0  7129300520 2014-10-13  221900.0         3       1.00         1180   \n",
       "1  6414100192 2014-12-09  538000.0         3       2.25         2570   \n",
       "2  5631500400 2015-02-25  180000.0         2       1.00          770   \n",
       "3  2487200875 2014-12-09  604000.0         4       3.00         1960   \n",
       "4  1954400510 2015-02-18  510000.0         3       2.00         1680   \n",
       "\n",
       "   sqft_lot  floors  waterfront  view  ...  sqft_above  sqft_basement  \\\n",
       "0      5650     1.0           0     0  ...        1180              0   \n",
       "1      7242     2.0           0     0  ...        2170            400   \n",
       "2     10000     1.0           0     0  ...         770              0   \n",
       "3      5000     1.0           0     0  ...        1050            910   \n",
       "4      8080     1.0           0     0  ...        1680              0   \n",
       "\n",
       "   yr_built  yr_renovated  zipcode      lat     long  sqft_living15  \\\n",
       "0      1955             0    98178  47.5112 -122.257           1340   \n",
       "1      1951          1991    98125  47.7210 -122.319           1690   \n",
       "2      1933             0    98028  47.7379 -122.233           2720   \n",
       "3      1965             0    98136  47.5208 -122.393           1360   \n",
       "4      1987             0    98074  47.6168 -122.045           1800   \n",
       "\n",
       "   sqft_lot15  m2_living  \n",
       "0        5650     108.56  \n",
       "1        7639     236.44  \n",
       "2        8062      70.84  \n",
       "3        5000     180.32  \n",
       "4        7503     154.56  \n",
       "\n",
       "[5 rows x 22 columns]"
      ]
     },
     "execution_count": 38,
     "metadata": {},
     "output_type": "execute_result"
    }
   ],
   "source": [
    "dfv.head()"
   ]
  },
  {
   "cell_type": "code",
   "execution_count": null,
   "id": "historic-mining",
   "metadata": {},
   "outputs": [],
   "source": []
  },
  {
   "cell_type": "code",
   "execution_count": null,
   "id": "strategic-monitoring",
   "metadata": {},
   "outputs": [],
   "source": []
  },
  {
   "cell_type": "code",
   "execution_count": null,
   "id": "economic-broadcasting",
   "metadata": {},
   "outputs": [],
   "source": []
  },
  {
   "cell_type": "code",
   "execution_count": null,
   "id": "modified-merit",
   "metadata": {},
   "outputs": [],
   "source": []
  },
  {
   "cell_type": "code",
   "execution_count": null,
   "id": "attempted-azerbaijan",
   "metadata": {},
   "outputs": [],
   "source": []
  },
  {
   "cell_type": "code",
   "execution_count": null,
   "id": "sonic-atmosphere",
   "metadata": {},
   "outputs": [],
   "source": []
  },
  {
   "cell_type": "code",
   "execution_count": null,
   "id": "great-medium",
   "metadata": {},
   "outputs": [],
   "source": []
  },
  {
   "cell_type": "code",
   "execution_count": null,
   "id": "requested-universe",
   "metadata": {},
   "outputs": [],
   "source": []
  },
  {
   "cell_type": "code",
   "execution_count": null,
   "id": "affiliated-economics",
   "metadata": {},
   "outputs": [],
   "source": []
  },
  {
   "cell_type": "code",
   "execution_count": null,
   "id": "embedded-sally",
   "metadata": {},
   "outputs": [],
   "source": []
  },
  {
   "cell_type": "code",
   "execution_count": null,
   "id": "invalid-principle",
   "metadata": {},
   "outputs": [],
   "source": []
  },
  {
   "cell_type": "code",
   "execution_count": null,
   "id": "therapeutic-topic",
   "metadata": {},
   "outputs": [],
   "source": []
  },
  {
   "cell_type": "code",
   "execution_count": null,
   "id": "infinite-sphere",
   "metadata": {},
   "outputs": [],
   "source": []
  }
 ],
 "metadata": {
  "kernelspec": {
   "display_name": "Python 3",
   "language": "python",
   "name": "python3"
  },
  "language_info": {
   "codemirror_mode": {
    "name": "ipython",
    "version": 3
   },
   "file_extension": ".py",
   "mimetype": "text/x-python",
   "name": "python",
   "nbconvert_exporter": "python",
   "pygments_lexer": "ipython3",
   "version": "3.8.5"
  }
 },
 "nbformat": 4,
 "nbformat_minor": 5
}
